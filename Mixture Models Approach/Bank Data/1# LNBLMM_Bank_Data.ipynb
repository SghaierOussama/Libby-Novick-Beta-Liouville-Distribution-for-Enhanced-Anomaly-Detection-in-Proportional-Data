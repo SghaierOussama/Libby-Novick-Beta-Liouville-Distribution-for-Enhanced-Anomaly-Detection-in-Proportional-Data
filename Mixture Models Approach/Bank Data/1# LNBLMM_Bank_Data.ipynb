{
  "cells": [
    {
      "cell_type": "code",
      "execution_count": 1,
      "metadata": {
        "id": "1JehaGAsi5wj"
      },
      "outputs": [],
      "source": [
        "import pandas as pd\n",
        "import numpy as np\n",
        "import tensorflow as tf\n",
        "import matplotlib.pyplot as plt\n",
        "from sklearn.preprocessing import Normalizer\n",
        "from sklearn.preprocessing import MinMaxScaler\n",
        "import random\n",
        "random.seed(0)\n",
        "tf.random.set_seed(0)\n",
        "np.random.seed(0)"
      ]
    },
    {
      "cell_type": "markdown",
      "metadata": {
        "id": "b3txogskoCCR"
      },
      "source": [
        "## **Load the Data**"
      ]
    },
    {
      "cell_type": "code",
      "source": [
        "data = pd.read_csv('/content/bank-additional-full.csv')"
      ],
      "metadata": {
        "id": "KWTu_wMdP3qB"
      },
      "execution_count": 2,
      "outputs": []
    },
    {
      "cell_type": "code",
      "source": [
        "data = data.drop_duplicates()\n",
        "data.shape"
      ],
      "metadata": {
        "id": "0kqoOLnwP3l-",
        "colab": {
          "base_uri": "https://localhost:8080/"
        },
        "outputId": "657f1be7-3ada-4d06-d280-add6810603b3"
      },
      "execution_count": 3,
      "outputs": [
        {
          "output_type": "execute_result",
          "data": {
            "text/plain": [
              "(41176, 21)"
            ]
          },
          "metadata": {},
          "execution_count": 3
        }
      ]
    },
    {
      "cell_type": "code",
      "source": [
        "data = data[data['job'] != 'unknown']\n",
        "data = data[data['marital'] != 'unknown']\n",
        "data = data[data['education'] != 'unknown']\n",
        "data = data[data['default'] != 'unknown']\n",
        "data = data[data['housing'] != 'unknown']\n",
        "data = data[data['loan'] != 'unknown']\n",
        "data = data[data['contact'] != 'unknown']\n",
        "data = data[data['month'] != 'unknown']\n",
        "data = data[data['day_of_week'] != 'unknown']\n",
        "data = data[data['poutcome'] != 'unknown']"
      ],
      "metadata": {
        "id": "xmtjHexRA5aD"
      },
      "execution_count": 4,
      "outputs": []
    },
    {
      "cell_type": "code",
      "source": [
        "data['job'] = [0 if elem=='admin.' else 1 if elem=='blue-collar' else 2 if elem=='technician' else 3 if elem=='services' else 4 if elem=='management' else 5 if elem=='retired' else 6 if elem=='entrepreneur' else 7 if elem=='self-employed' else 8 if elem=='housemaid' else 9 if elem=='student' else 10 if elem=='unemployed' else 11 for elem in data['job']]\n",
        "data['marital'] = [0 if elem=='married.' else 1 if elem=='single' else 2 if elem=='divorce' else 3 for elem in data['marital']]\n",
        "data['education'] = [1 if elem=='university.degree' else 2 if elem=='high.school' else 3 if elem=='basic.9y' else 4 if elem=='professional.course' else 5 if elem=='basic.4y' else 6 if elem=='basic.6y' else 7 for elem in data['education']]\n",
        "data['default'] = [1 if elem=='no' else 2 if elem=='yes' else 3 for elem in data['default']]\n",
        "data['housing'] = [1 if elem=='no' else 2 if elem=='yes' else 3 for elem in data['housing']]\n",
        "data['loan'] = [1 if elem=='no' else 2 if elem=='yes' else 3 for elem in data['loan']]\n",
        "data['contact'] = [1 if elem=='cellular' else 2 for elem in data['contact']]\n",
        "data['month'] = [0.5 if elem=='may' else 0.7 if elem=='jul' else 0.8 if elem=='aug' else 0.6 if elem=='jun' else 0.11 if elem=='nov' else 0.4 if elem=='apr' else 0.10 if elem=='oct' else 0.9 if elem=='sep' else 0.3 if elem=='mar' else 0.12 for elem in data['month']]\n",
        "data['day_of_week'] = [0.10 if elem=='mon' else 0.40 if elem=='thu' else 0.30 if elem=='wed' else 0.20 if elem=='tue' else 0.50 for elem in data['day_of_week']]\n",
        "data['poutcome'] = [1 if elem=='nonexistent' else 2 if elem=='failure' else 3 for elem in data['poutcome']]"
      ],
      "metadata": {
        "id": "Rwu5UxJM9W2v"
      },
      "execution_count": 5,
      "outputs": []
    },
    {
      "cell_type": "code",
      "source": [
        "data['y'] = [1 if elem=='no' else 0 for elem in data['y']]"
      ],
      "metadata": {
        "id": "LjIfuFOZ9oCC"
      },
      "execution_count": 6,
      "outputs": []
    },
    {
      "cell_type": "code",
      "source": [
        "data['y'].value_counts()"
      ],
      "metadata": {
        "colab": {
          "base_uri": "https://localhost:8080/"
        },
        "id": "L11Th4yWC7Gs",
        "outputId": "0fe454e5-2e43-4c30-a901-7029439e9194"
      },
      "execution_count": 7,
      "outputs": [
        {
          "output_type": "execute_result",
          "data": {
            "text/plain": [
              "1    26620\n",
              "0     3858\n",
              "Name: y, dtype: int64"
            ]
          },
          "metadata": {},
          "execution_count": 7
        }
      ]
    },
    {
      "cell_type": "code",
      "source": [
        "data_no = data.loc[data['y']==1]\n",
        "data_yes = data.loc[data['y']==0]"
      ],
      "metadata": {
        "id": "IseSmbbx4XLu"
      },
      "execution_count": 8,
      "outputs": []
    },
    {
      "cell_type": "code",
      "source": [
        "data_no_train = data_no[10000:25000]\n",
        "data_no_test = data_no[:4000]\n",
        "data_yes_train = data_yes[:3000]\n",
        "data_yes_test = data_yes[3000:]"
      ],
      "metadata": {
        "id": "My5glYbl9phc"
      },
      "execution_count": 9,
      "outputs": []
    },
    {
      "cell_type": "code",
      "source": [
        "train = pd.DataFrame(pd.concat([data_no_train,data_yes_train]))\n",
        "test = pd.DataFrame(pd.concat([data_no_test,data_yes_test]))"
      ],
      "metadata": {
        "id": "BVcl0DvvW7lK"
      },
      "execution_count": 10,
      "outputs": []
    },
    {
      "cell_type": "code",
      "source": [
        "train = train.reset_index(drop = True)   #reset index for the train data\n",
        "test = test.reset_index(drop = True)     #reset index for the test data"
      ],
      "metadata": {
        "id": "nWtZUZyXW8wD"
      },
      "execution_count": 11,
      "outputs": []
    },
    {
      "cell_type": "code",
      "source": [
        "y_train = train['y']\n",
        "y_test = test['y']"
      ],
      "metadata": {
        "id": "kY4_a14kP3ja"
      },
      "execution_count": 12,
      "outputs": []
    },
    {
      "cell_type": "code",
      "source": [
        "train = train.drop(['y'],axis=1)\n",
        "test = test.drop(['y'],axis=1)"
      ],
      "metadata": {
        "id": "hT6gceboXEMs"
      },
      "execution_count": 13,
      "outputs": []
    },
    {
      "cell_type": "code",
      "source": [
        "scaler = MinMaxScaler()\n",
        "train = scaler.fit_transform(train)\n",
        "train = np.array(train)\n",
        "train = train / train.sum(axis=1, keepdims=True)\n",
        "train = np.clip(train,0.0000005,None)"
      ],
      "metadata": {
        "id": "6oT9a-cfP3f3"
      },
      "execution_count": 14,
      "outputs": []
    },
    {
      "cell_type": "code",
      "source": [
        "scaler = MinMaxScaler()\n",
        "test = scaler.fit_transform(test)\n",
        "test = np.array(test)\n",
        "test = test / test.sum(axis=1, keepdims=True)\n",
        "test = np.clip(test,0.0000005,None)"
      ],
      "metadata": {
        "id": "Y6kRj0ZQXIKN"
      },
      "execution_count": 15,
      "outputs": []
    },
    {
      "cell_type": "markdown",
      "metadata": {
        "id": "E-PdJlxWx0Pr"
      },
      "source": [
        "## **Expectation Step**"
      ]
    },
    {
      "cell_type": "code",
      "execution_count": 16,
      "metadata": {
        "id": "dPgXSIP8OhH7"
      },
      "outputs": [],
      "source": [
        "from scipy.special import gamma, digamma, gammaln, psi,polygamma\n",
        "def log_lbl(row,thetas):\n",
        "  log_lbl = []\n",
        "  for theta in thetas:\n",
        "    alpha_K, alpha, beta, lamda = theta[:len(theta)-3], theta[len(theta)-3], theta[len(theta)-2], theta[len(theta)-1]\n",
        "    c = gammaln(np.sum(alpha_K)) + gammaln(alpha+beta) - gammaln(alpha) - gammaln(beta)\n",
        "    q1 = (alpha-np.sum(alpha_K))*np.log(1-np.mean(row)) + alpha*np.log(lamda)\n",
        "    q2 = (alpha+beta)*np.log(1-(1-lamda)*(1-np.mean(row))) - (beta-1)*np.log(np.mean(row))\n",
        "    q3 = np.sum(((alpha_K)-1)*np.log(row)) - np.sum(np.log(alpha_K))\n",
        "    log_lbl.append(c+q1+q2+q3)\n",
        "  return log_lbl"
      ]
    },
    {
      "cell_type": "code",
      "source": [
        "def c_log_lbl(row,thetas):\n",
        "  log_lbl = []\n",
        "  for theta in thetas:\n",
        "    alpha_K, alpha, beta, lamda = theta[:len(theta)-3], theta[len(theta)-3], theta[len(theta)-2], theta[len(theta)-1]\n",
        "    q1 = (alpha-np.sum(alpha_K))*np.log(1-np.mean(row))\n",
        "    q2 = (alpha+beta)*np.log(1-(1-lamda)*(1-np.mean(row))) - (beta-1)*np.log(np.mean(row))\n",
        "    q3 = np.sum(((alpha_K)-1)*np.log(row))\n",
        "    log_lbl.append(q1+q2+q3)\n",
        "  return log_lbl"
      ],
      "metadata": {
        "id": "rZ4mysSnQjf5"
      },
      "execution_count": 17,
      "outputs": []
    },
    {
      "cell_type": "code",
      "execution_count": 18,
      "metadata": {
        "id": "oWqaKJ2tYL7K"
      },
      "outputs": [],
      "source": [
        "def expectation_step(data, thetas, P,number_of_clusters):\n",
        "    Z = np.zeros((len(data), number_of_clusters))\n",
        "\n",
        "    for i, row in enumerate(data):\n",
        "        log_posteriors = np.log(P) + log_lbl(row, thetas)\n",
        "        log_posteriors -= np.max(log_posteriors)\n",
        "        posteriors = np.exp(log_posteriors)\n",
        "        Z[i] = posteriors / np.sum(posteriors)\n",
        "    return Z"
      ]
    },
    {
      "cell_type": "markdown",
      "metadata": {
        "id": "kQ-XEEQeJVhz"
      },
      "source": [
        "## **Maximization Step** ##"
      ]
    },
    {
      "cell_type": "code",
      "execution_count": 19,
      "metadata": {
        "id": "_dk35Z0tI-3Y"
      },
      "outputs": [],
      "source": [
        "def update_P(Z):\n",
        "  return np.mean(Z,axis=0)"
      ]
    },
    {
      "cell_type": "code",
      "execution_count": 20,
      "metadata": {
        "id": "YvL4_XjMrKyY"
      },
      "outputs": [],
      "source": [
        "def normalize_theta(arr, m, M):\n",
        "    min_val = min(arr)\n",
        "    max_val = max(arr)\n",
        "    normalized_arr = []\n",
        "\n",
        "    for value in arr:\n",
        "        normalized_value = m + ((value - min_val) * (M - m) / (max_val - min_val))\n",
        "        normalized_arr.append(normalized_value)\n",
        "\n",
        "    return normalized_arr"
      ]
    },
    {
      "cell_type": "code",
      "source": [
        "def calcul_inv_hess_vect(data,theta,Z,number_of_clusters):\n",
        "  ((N, K),M) = (data.shape,number_of_clusters)\n",
        "  Z_mean = np.clip(np.mean(Z,axis=0),10**(-15),None)\n",
        "  inv_hess_vect_matrices = []\n",
        "  for j in range(M):\n",
        "    theta_j = theta[j]\n",
        "    vect_alpha_j = theta_j[:len(theta_j)-3]\n",
        "    S = np.diag([-1/(float(polygamma(1,vect_alpha_j[m]))*N*Z_mean[j]) for m in range(K)])\n",
        "    a_T = np.array([[-1/(float(polygamma(1,vect_alpha_j[m]))*N*Z_mean[j]) for m in range(K)]])\n",
        "    gamma_et = float(polygamma(1,np.sum(vect_alpha_j)))*N*Z_mean[j] / (1+float(polygamma(1,np.sum(vect_alpha_j)))*N*Z_mean[j]*np.sum([-1/(np.sum(vect_alpha_j)*N*Z_mean[j]) for m in range(K)]))\n",
        "    H_inv = S + gamma_et*np.dot(a_T.T,a_T)\n",
        "    inv_hess_vect_matrices.append(H_inv)\n",
        "  return inv_hess_vect_matrices"
      ],
      "metadata": {
        "id": "wQFxivJ8ULjq"
      },
      "execution_count": 21,
      "outputs": []
    },
    {
      "cell_type": "code",
      "source": [
        "def calcul_inv_hess_non_vect(data,theta,Z,number_of_clusters):\n",
        "  M, N = number_of_clusters, data.shape[0]\n",
        "  Z_mean = np.clip(np.mean(Z,axis=0),10**(-6),None)\n",
        "  inv_hess_non_vect_matrices = []\n",
        "  for j in range(M):\n",
        "    theta_j = theta[j]\n",
        "    H_j = np.zeros((3,3))\n",
        "    alpha_j, beta_j, lamda_j = theta_j[len(theta_j)-3], theta_j[len(theta_j)-2], theta_j[len(theta_j)-1]\n",
        "    H_j[0][0] = N*Z_mean[j]*(float(polygamma(1,alpha_j+beta_j)) - float(polygamma(1,alpha_j)))\n",
        "    H_j[1][1] = N*Z_mean[j]*(float(polygamma(1,alpha_j+beta_j)) - float(polygamma(1,beta_j)))\n",
        "    H_j[2][2] = N*Z_mean[j]*((alpha_j+beta_j) / ((1-(1-lamda_j))**2) - (alpha_j/(lamda_j**2)))\n",
        "    H_j[0][1] = H_j[1][0] = N*Z_mean[j]*float(polygamma(1,alpha_j+beta_j))\n",
        "    H_j[0][2] = H_j[2][0] = N*Z_mean[j]*((1/lamda_j) - (1/(1-(1-lamda_j))))\n",
        "    H_j[1][2] = H_j[2][1] = -N*Z_mean[j]*(1/(1-(1-lamda_j)))\n",
        "    inv_H_j = np.linalg.inv(H_j)\n",
        "    inv_hess_non_vect_matrices.append(inv_H_j)\n",
        "  return inv_hess_non_vect_matrices"
      ],
      "metadata": {
        "id": "0cQ-gJAoaaOr"
      },
      "execution_count": 22,
      "outputs": []
    },
    {
      "cell_type": "code",
      "source": [
        "def derivative(data,theta_old,Z,number_of_clusters):\n",
        "  ((N, K),M) = (data.shape,number_of_clusters)\n",
        "  Z_mean = np.mean(Z,axis=0)\n",
        "  der_param = []\n",
        "  for j in range(M):\n",
        "    der_vect_alpha_j = np.zeros(K)\n",
        "    theta_old_j = theta_old[j]\n",
        "    vect_alpha_old_j, alpha_old_j, beta_old_j, lamda_old_j = theta_old_j[:len(theta_old_j)-3], theta_old_j[len(theta_old_j)-3], theta_old_j[len(theta_old_j)-2], theta_old_j[len(theta_old_j)-1]\n",
        "    for s in range(K):\n",
        "      der_vect_alpha_j[s] =N*Z_mean[j]*(psi(np.sum(vect_alpha_old_j)) - psi(vect_alpha_old_j[s])) - np.sum( Z[:,j]*np.log(data[:,s]) )\n",
        "    der_alpha_j = N*Z_mean[j]*(psi(alpha_old_j+beta_old_j)-psi(alpha_old_j) + np.log(np.clip(lamda_old_j,10**(-6),None))-np.log(np.clip(1-(1-lamda_old_j),10**(-6),None)))\n",
        "    der_beta_j = N*Z_mean[j]*(psi(alpha_old_j+beta_old_j)-psi(beta_old_j)- np.log(np.clip(1-(1-lamda_old_j),10**(-8),None)))\n",
        "    der_lamda_j = N*Z_mean[j]*((alpha_old_j/lamda_old_j) - (alpha_old_j+beta_old_j)/(1-(1-lamda_old_j)))\n",
        "    der_theta_j = np.concatenate((der_vect_alpha_j, der_alpha_j,der_beta_j, der_lamda_j), axis=None)\n",
        "    der_param.append(der_theta_j)\n",
        "  return der_param"
      ],
      "metadata": {
        "id": "e2Ir_85Vaut_"
      },
      "execution_count": 23,
      "outputs": []
    },
    {
      "cell_type": "code",
      "execution_count": 24,
      "metadata": {
        "id": "H4k9DX5jJs_Y"
      },
      "outputs": [],
      "source": [
        "from keras.utils.generic_utils import to_list\n",
        "def update_theta(data,theta_old,Z,number_of_clusters):\n",
        "  M = number_of_clusters\n",
        "  H_non_vect, H_vect = calcul_inv_hess_non_vect(data,theta_old,Z,number_of_clusters), calcul_inv_hess_vect(data,theta_old,Z,number_of_clusters)\n",
        "  der_param = derivative(data,theta_old,Z,number_of_clusters)\n",
        "  theta_new = []\n",
        "  for j in range(M):\n",
        "    (theta_old_j,der_param_j,H_non_vect_j,H_vect_j) = (theta_old[j],der_param[j],H_non_vect[j],H_vect[j])\n",
        "    (vect_alpha_old_j, alpha_beta_lamda_old_j,der_vect_alpha_old_j, der_alpha_beta_lamda_old_j) = (theta_old_j[:len(theta_old_j)-3], theta_old_j[len(theta_old_j)-3:],der_param_j[:len(der_param_j)-3], der_param_j[len(der_param_j)-3:])\n",
        "    vect_alpha_new_j = vect_alpha_old_j - np.dot(H_vect_j,der_vect_alpha_old_j)\n",
        "    alpha_beta_lamda_new_j = alpha_beta_lamda_old_j - np.dot(H_non_vect_j,der_alpha_beta_lamda_old_j)\n",
        "    theta_new.append(np.clip(normalize_theta(np.concatenate((vect_alpha_new_j,alpha_beta_lamda_new_j), axis=None),0.1,10),10**(-15),None))\n",
        "  return theta_new"
      ]
    },
    {
      "cell_type": "code",
      "source": [
        "#Sometimes we need to switch the positions of the elements of the parameters vector to solve the label switching problem\n",
        "theta_zero = [np.array([2.18278735, 1.37637035, 3.22274067, 3.70073663, 5.74494803,\n",
        "       4.44215498, 9.884901  , 1.11024363, 2.16787989, 1.69696423,\n",
        "       6.56577242, 2.60758687, 4.71647665, 2.51981336, 1.67379888,\n",
        "       1.1927139 , 6.59766294, 1.46801122, 2.04616538, 3.75037919,\n",
        "       8.22783298, 1.06130263, 8.39565458]), np.array([1.05137424, 9.7669487 , 4.7396469 , 9.76993477, 6.08797065,\n",
        "       7.41870944, 0.48795914, 2.89978893, 1.28994596, 3.03178796,\n",
        "       1.27540442, 3.24803348, 4.20120365, 0.73506021, 6.95547398,\n",
        "       5.7093544 , 2.72735596, 5.28015573, 1.03001106, 5.80187031,\n",
        "       9.30003236, 3.25383263, 6.70736276])]"
      ],
      "metadata": {
        "id": "N7vj5_DsVg8I"
      },
      "execution_count": 25,
      "outputs": []
    },
    {
      "cell_type": "code",
      "execution_count": 26,
      "metadata": {
        "id": "oKzLJI7XEsy7"
      },
      "outputs": [],
      "source": [
        "from sklearn.metrics import roc_auc_score, f1_score, precision_score, recall_score, confusion_matrix, accuracy_score\n",
        "from sklearn import metrics\n",
        "\n",
        "x_train_task = train\n",
        "x_test_task = test\n",
        "\n",
        "#EM Algorithm\n",
        "M = 2\n",
        "P = [0.99, 0.01]\n",
        "theta_old = theta_zero\n",
        "max_iter = 5\n",
        "for iteration in range(max_iter):\n",
        "  Z = expectation_step(x_train_task,theta_old,P,M)\n",
        "  theta_new = update_theta(x_train_task,theta_old,Z,M)\n",
        "  P = np.clip(update_P(Z),10**(-15),None)\n",
        "  theta_old = theta_new"
      ]
    },
    {
      "cell_type": "code",
      "source": [
        "from sklearn.metrics import roc_auc_score, f1_score, precision_score, recall_score, confusion_matrix, accuracy_score\n",
        "from sklearn import metrics\n",
        "\n",
        "predictions_bin = []\n",
        "for row in x_test_task:\n",
        "      log_posteriors = np.exp(np.log(P)+log_lbl(row,theta_new))\n",
        "      predicted_label = np.argmin(log_posteriors)\n",
        "      predictions_bin.append(predicted_label)\n",
        "predictions_bin = np.asarray(predictions_bin)\n",
        "labels = np.array(y_test).flatten()\n",
        "f1 = f1_score(labels, predictions_bin)\n",
        "precision = precision_score(labels, predictions_bin)\n",
        "recall = recall_score(labels, predictions_bin)\n",
        "acc = accuracy_score(labels, predictions_bin)\n",
        "\n",
        "print(\"F1 score:\", f1)\n",
        "print(\"Precision:\", precision)\n",
        "print(\"Recall:\", recall)\n",
        "print(\"Accuracy:\", acc)"
      ],
      "metadata": {
        "colab": {
          "base_uri": "https://localhost:8080/"
        },
        "id": "LBmweL1oYTPX",
        "outputId": "682f9b16-0169-4f7d-9d41-0bfaf0240e0a"
      },
      "execution_count": 27,
      "outputs": [
        {
          "output_type": "stream",
          "name": "stdout",
          "text": [
            "F1 score: 0.9889974038818148\n",
            "Precision: 0.9782342871117633\n",
            "Recall: 1.0\n",
            "Accuracy: 0.9816797035817209\n"
          ]
        }
      ]
    },
    {
      "cell_type": "code",
      "source": [
        "cm = confusion_matrix(labels, predictions_bin)\n",
        "cm_display = metrics.ConfusionMatrixDisplay(confusion_matrix = cm, display_labels = ['YES Class', 'NO Class'])\n",
        "cm_display.plot()\n",
        "cm_display.ax_.set_title('LNBLMM BANK DATA')\n",
        "plt.show()"
      ],
      "metadata": {
        "colab": {
          "base_uri": "https://localhost:8080/",
          "height": 472
        },
        "id": "EmOJj4LbYWTT",
        "outputId": "cb906024-792a-42b8-deee-5ae5462d787a"
      },
      "execution_count": 28,
      "outputs": [
        {
          "output_type": "display_data",
          "data": {
            "text/plain": [
              "<Figure size 640x480 with 2 Axes>"
            ],
            "image/png": "[encoded data removed]"
          },
          "metadata": {}
        }
      ]
    },
    {
      "cell_type": "code",
      "source": [],
      "metadata": {
        "id": "YMS362FFZchM"
      },
      "execution_count": 28,
      "outputs": []
    }
  ],
  "metadata": {
    "colab": {
      "provenance": []
    },
    "kernelspec": {
      "display_name": "Python 3",
      "name": "python3"
    },
    "language_info": {
      "name": "python"
    }
  },
  "nbformat": 4,
  "nbformat_minor": 0
}