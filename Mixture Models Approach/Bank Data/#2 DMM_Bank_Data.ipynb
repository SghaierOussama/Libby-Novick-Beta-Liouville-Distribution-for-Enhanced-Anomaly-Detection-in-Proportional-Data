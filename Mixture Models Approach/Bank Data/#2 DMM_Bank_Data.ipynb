{
  "cells": [
    {
      "cell_type": "code",
      "execution_count": 1,
      "metadata": {
        "id": "1JehaGAsi5wj"
      },
      "outputs": [],
      "source": [
        "import pandas as pd\n",
        "import numpy as np\n",
        "import tensorflow as tf\n",
        "import matplotlib.pyplot as plt\n",
        "from sklearn.preprocessing import Normalizer\n",
        "from sklearn.preprocessing import MinMaxScaler\n",
        "import random\n",
        "random.seed(0)\n",
        "tf.random.set_seed(0)\n",
        "np.random.seed(0)"
      ]
    },
    {
      "cell_type": "markdown",
      "metadata": {
        "id": "b3txogskoCCR"
      },
      "source": [
        "## **Load the Data**"
      ]
    },
    {
      "cell_type": "code",
      "source": [
        "data = pd.read_csv('/content/bank-additional-full.csv')"
      ],
      "metadata": {
        "id": "KWTu_wMdP3qB"
      },
      "execution_count": 2,
      "outputs": []
    },
    {
      "cell_type": "code",
      "source": [
        "data = data.drop_duplicates()\n",
        "data.shape"
      ],
      "metadata": {
        "id": "0kqoOLnwP3l-",
        "colab": {
          "base_uri": "https://localhost:8080/"
        },
        "outputId": "d479837b-3aab-4e89-a0ae-7492adcb23c0"
      },
      "execution_count": 3,
      "outputs": [
        {
          "output_type": "execute_result",
          "data": {
            "text/plain": [
              "(41176, 21)"
            ]
          },
          "metadata": {},
          "execution_count": 3
        }
      ]
    },
    {
      "cell_type": "code",
      "source": [
        "data = data[data['job'] != 'unknown']\n",
        "data = data[data['marital'] != 'unknown']\n",
        "data = data[data['education'] != 'unknown']\n",
        "data = data[data['default'] != 'unknown']\n",
        "data = data[data['housing'] != 'unknown']\n",
        "data = data[data['loan'] != 'unknown']\n",
        "data = data[data['contact'] != 'unknown']\n",
        "data = data[data['month'] != 'unknown']\n",
        "data = data[data['day_of_week'] != 'unknown']\n",
        "data = data[data['poutcome'] != 'unknown']"
      ],
      "metadata": {
        "id": "xmtjHexRA5aD"
      },
      "execution_count": 4,
      "outputs": []
    },
    {
      "cell_type": "code",
      "source": [
        "data['job'] = [0 if elem=='admin.' else 1 if elem=='blue-collar' else 2 if elem=='technician' else 3 if elem=='services' else 4 if elem=='management' else 5 if elem=='retired' else 6 if elem=='entrepreneur' else 7 if elem=='self-employed' else 8 if elem=='housemaid' else 9 if elem=='student' else 10 if elem=='unemployed' else 11 for elem in data['job']]\n",
        "data['marital'] = [0 if elem=='married.' else 1 if elem=='single' else 2 if elem=='divorce' else 3 for elem in data['marital']]\n",
        "data['education'] = [1 if elem=='university.degree' else 2 if elem=='high.school' else 3 if elem=='basic.9y' else 4 if elem=='professional.course' else 5 if elem=='basic.4y' else 6 if elem=='basic.6y' else 7 for elem in data['education']]\n",
        "data['default'] = [1 if elem=='no' else 2 if elem=='yes' else 3 for elem in data['default']]\n",
        "data['housing'] = [1 if elem=='no' else 2 if elem=='yes' else 3 for elem in data['housing']]\n",
        "data['loan'] = [1 if elem=='no' else 2 if elem=='yes' else 3 for elem in data['loan']]\n",
        "data['contact'] = [1 if elem=='cellular' else 2 for elem in data['contact']]\n",
        "data['month'] = [0.5 if elem=='may' else 0.7 if elem=='jul' else 0.8 if elem=='aug' else 0.6 if elem=='jun' else 0.11 if elem=='nov' else 0.4 if elem=='apr' else 0.10 if elem=='oct' else 0.9 if elem=='sep' else 0.3 if elem=='mar' else 0.12 for elem in data['month']]\n",
        "data['day_of_week'] = [0.10 if elem=='mon' else 0.40 if elem=='thu' else 0.30 if elem=='wed' else 0.20 if elem=='tue' else 0.50 for elem in data['day_of_week']]\n",
        "data['poutcome'] = [1 if elem=='nonexistent' else 2 if elem=='failure' else 3 for elem in data['poutcome']]"
      ],
      "metadata": {
        "id": "Rwu5UxJM9W2v"
      },
      "execution_count": 5,
      "outputs": []
    },
    {
      "cell_type": "code",
      "source": [
        "data['y'] = [1 if elem=='no' else 0 for elem in data['y']]"
      ],
      "metadata": {
        "id": "LjIfuFOZ9oCC"
      },
      "execution_count": 6,
      "outputs": []
    },
    {
      "cell_type": "code",
      "source": [
        "data_no = data.loc[data['y']==1]\n",
        "data_yes = data.loc[data['y']==0]"
      ],
      "metadata": {
        "id": "IseSmbbx4XLu"
      },
      "execution_count": 7,
      "outputs": []
    },
    {
      "cell_type": "code",
      "source": [
        "data_no_train = data_no[10000:25000]\n",
        "data_no_test = data_no[:4000]\n",
        "data_yes_train = data_yes[:3000]\n",
        "data_yes_test = data_yes[3000:]"
      ],
      "metadata": {
        "id": "My5glYbl9phc"
      },
      "execution_count": 8,
      "outputs": []
    },
    {
      "cell_type": "code",
      "source": [
        "train = pd.DataFrame(pd.concat([data_no_train,data_yes_train]))\n",
        "test = pd.DataFrame(pd.concat([data_no_test,data_yes_test]))"
      ],
      "metadata": {
        "id": "BVcl0DvvW7lK"
      },
      "execution_count": 9,
      "outputs": []
    },
    {
      "cell_type": "code",
      "source": [
        "train = train.reset_index(drop = True)   #reset index for the train data\n",
        "test = test.reset_index(drop = True)     #reset index for the test data"
      ],
      "metadata": {
        "id": "nWtZUZyXW8wD"
      },
      "execution_count": 10,
      "outputs": []
    },
    {
      "cell_type": "code",
      "source": [
        "y_train = train['y']\n",
        "y_test = test['y']"
      ],
      "metadata": {
        "id": "kY4_a14kP3ja"
      },
      "execution_count": 11,
      "outputs": []
    },
    {
      "cell_type": "code",
      "source": [
        "train = train.drop(['y'],axis=1)\n",
        "test = test.drop(['y'],axis=1)"
      ],
      "metadata": {
        "id": "hT6gceboXEMs"
      },
      "execution_count": 12,
      "outputs": []
    },
    {
      "cell_type": "code",
      "source": [
        "scaler = MinMaxScaler()\n",
        "train = scaler.fit_transform(train)\n",
        "train = np.array(train)\n",
        "train = train / train.sum(axis=1, keepdims=True)\n",
        "train = np.clip(train,0.0000005,None)"
      ],
      "metadata": {
        "id": "6oT9a-cfP3f3"
      },
      "execution_count": 13,
      "outputs": []
    },
    {
      "cell_type": "code",
      "source": [
        "scaler = MinMaxScaler()\n",
        "test = scaler.fit_transform(test)\n",
        "test = np.array(test)\n",
        "test = test / test.sum(axis=1, keepdims=True)\n",
        "test = np.clip(test,0.0000005,None)"
      ],
      "metadata": {
        "id": "Y6kRj0ZQXIKN"
      },
      "execution_count": 14,
      "outputs": []
    },
    {
      "cell_type": "code",
      "source": [
        "from scipy.special import psi\n",
        "def initializations(observations):\n",
        "    observations = np.array(observations)\n",
        "    N = observations.shape[0]\n",
        "    f = np.mean(observations, axis=0)\n",
        "    return observations.mean(axis=0)*( (N * (len(f) - 1) * (-psi(1))) / (\n",
        "        N * np.sum(f * np.log(np.clip(f,10**(-10),None))) - np.sum(f * np.sum(np.log(np.clip(observations,10**(-10),None)), axis=0))) )"
      ],
      "metadata": {
        "id": "5Q-6U3VLuu4b"
      },
      "execution_count": 15,
      "outputs": []
    },
    {
      "cell_type": "code",
      "source": [
        "from sklearn.cluster import MiniBatchKMeans\n",
        "def initialize_P(data,number_of_clusters):\n",
        "  kmeans = MiniBatchKMeans(n_clusters = number_of_clusters)\n",
        "  kmeans.fit(data)\n",
        "  labels = kmeans.labels_\n",
        "  data_organised = []\n",
        "  for j in range(number_of_clusters):\n",
        "    indices = [i for i, label in enumerate(labels) if label == j]\n",
        "    data_j = np.array([data[i] for i in indices])\n",
        "    data_organised.append(data_j)\n",
        "  unique, counts = np.unique(labels, return_counts=True)\n",
        "  p_j = counts/data.shape[0]\n",
        "  return p_j ,unique ,counts ,data_organised"
      ],
      "metadata": {
        "id": "WR8Kuy1ouu1F"
      },
      "execution_count": 16,
      "outputs": []
    },
    {
      "cell_type": "markdown",
      "metadata": {
        "id": "E-PdJlxWx0Pr"
      },
      "source": [
        "## **Expectation Step**"
      ]
    },
    {
      "cell_type": "code",
      "execution_count": 17,
      "metadata": {
        "id": "dPgXSIP8OhH7"
      },
      "outputs": [],
      "source": [
        "from scipy.special import gamma, digamma, gammaln, psi,polygamma\n",
        "def log_dir(row,alphas):\n",
        "  log_dir = []\n",
        "  for alpha in alphas:\n",
        "    q = gammaln(np.sum(alpha)) - np.sum(gammaln(alpha)) + np.sum((alpha-1)*np.log(row))\n",
        "    log_dir.append(q)\n",
        "  return np.array(log_dir)"
      ]
    },
    {
      "cell_type": "code",
      "execution_count": 18,
      "metadata": {
        "id": "oWqaKJ2tYL7K"
      },
      "outputs": [],
      "source": [
        "def expectation_step(data, alphas, P,number_of_clusters):\n",
        "    Z = np.zeros((len(data), number_of_clusters))\n",
        "\n",
        "    for i, row in enumerate(data):\n",
        "        log_posteriors = np.log(P) + log_dir(row, alphas)\n",
        "        log_posteriors -= np.max(log_posteriors)\n",
        "        posteriors = np.exp(log_posteriors)\n",
        "        Z[i] = posteriors / np.sum(posteriors)\n",
        "    return Z"
      ]
    },
    {
      "cell_type": "markdown",
      "metadata": {
        "id": "kQ-XEEQeJVhz"
      },
      "source": [
        "## **Maximization Step** ##"
      ]
    },
    {
      "cell_type": "code",
      "execution_count": 19,
      "metadata": {
        "id": "_dk35Z0tI-3Y"
      },
      "outputs": [],
      "source": [
        "def update_P(Z):\n",
        "  return np.mean(Z,axis=0)"
      ]
    },
    {
      "cell_type": "code",
      "execution_count": 20,
      "metadata": {
        "id": "YvL4_XjMrKyY"
      },
      "outputs": [],
      "source": [
        "def normalize_alpha(arr, m, M):\n",
        "    min_val = min(arr)\n",
        "    max_val = max(arr)\n",
        "    normalized_arr = []\n",
        "\n",
        "    for value in arr:\n",
        "        normalized_value = m + ((value - min_val) * (M - m) / (max_val - min_val))\n",
        "        normalized_arr.append(normalized_value)\n",
        "\n",
        "    return normalized_arr"
      ]
    },
    {
      "cell_type": "code",
      "source": [
        "def calcul_inv_hess_vect(data,alpha,Z,number_of_clusters):\n",
        "  ((N, K),M) = (data.shape,number_of_clusters)\n",
        "  Z_mean = np.clip(np.mean(Z,axis=0),10**(-15),None)\n",
        "  inv_hess_vect_matrices = []\n",
        "  for j in range(M):\n",
        "    alpha_j = alpha[j]\n",
        "    S = np.diag([-1/np.clip(float(polygamma(1,alpha_j[m]))*N*Z_mean[j],10**(-7),None) for m in range(K)])\n",
        "    a_T = np.array([[-1/np.clip(float(polygamma(1,alpha_j[m]))*N*Z_mean[j],10**(-7),None) for m in range(K)]])\n",
        "    gamma_et = float(polygamma(1,np.sum(alpha_j)))*N*Z_mean[j] / (1+float(polygamma(1,np.sum(alpha_j)))*N*Z_mean[j]*np.sum([-1/np.clip(float(polygamma(1,alpha_j[m]))*N*Z_mean[j],10**(-7),None) for m in range(K)]))\n",
        "    H_inv = S + gamma_et*np.dot(a_T.T,a_T)\n",
        "    inv_hess_vect_matrices.append(H_inv)\n",
        "  return inv_hess_vect_matrices"
      ],
      "metadata": {
        "id": "wQFxivJ8ULjq"
      },
      "execution_count": 21,
      "outputs": []
    },
    {
      "cell_type": "code",
      "source": [
        "def derivative(data,alpha_old,Z,number_of_clusters):\n",
        "  ((N, K),M) = (data.shape,number_of_clusters)\n",
        "  Z_mean = np.mean(Z,axis=0)\n",
        "  der_param = []\n",
        "  for j in range(M):\n",
        "    der_vect_alpha_j = np.zeros(K)\n",
        "    alpha_old_j = alpha_old[j]\n",
        "    for s in range(K):\n",
        "      der_vect_alpha_j[s] =N*Z_mean[j]*(psi(np.sum(alpha_old_j)) - psi(alpha_old_j[s])) - np.sum( Z[:,j]*np.log(data[:,s]) )\n",
        "    der_param.append(der_vect_alpha_j)\n",
        "  return der_param"
      ],
      "metadata": {
        "id": "e2Ir_85Vaut_"
      },
      "execution_count": 22,
      "outputs": []
    },
    {
      "cell_type": "code",
      "execution_count": 23,
      "metadata": {
        "id": "H4k9DX5jJs_Y"
      },
      "outputs": [],
      "source": [
        "def update_alpha(data,alpha_old,Z,number_of_clusters):\n",
        "  M = number_of_clusters\n",
        "  inv_hess = calcul_inv_hess_vect(data,alpha_old,Z,number_of_clusters)\n",
        "  der_param = derivative(data,alpha_old,Z,number_of_clusters)\n",
        "  alpha_new = []\n",
        "  for j in range(M):\n",
        "    (alpha_old_j,der_param_j,Hess_j) = (alpha_old[j],der_param[j],inv_hess[j])\n",
        "    alpha_new_j = alpha_old_j - np.dot(Hess_j,der_param_j)\n",
        "    alpha_new.append(np.array(normalize_alpha(np.array(alpha_new_j),0.1,10)))\n",
        "  return alpha_new"
      ]
    },
    {
      "cell_type": "code",
      "source": [
        "#Sometimes we need to switch the positions of the elements of the parameters vector to solve the label switching problem\n",
        "alpha_zero = [np.array([3.24803348, 4.20120365, 0.73506021, 6.95547398, 5.7093544 ,\n",
        "       2.72735596, 5.28015573, 1.03001106, 5.80187031, 9.30003236,\n",
        "       3.25383263, 6.70736276, 1.40479884, 7.19163932, 2.96512032,\n",
        "       1.91359448, 5.90647805, 0.29906471, 8.30650629, 0.14648521]), np.array([6.81038371, 2.77307893, 7.37842082, 9.6256666 , 2.56265612,\n",
        "       5.80395761, 5.96121512, 5.76529387, 2.30850816, 9.53221521,\n",
        "       4.52654125, 8.47944586, 7.02484483, 3.04462581, 8.15659842,\n",
        "       4.02540683, 8.82292165, 5.85460144, 8.82918008, 6.95606274])]"
      ],
      "metadata": {
        "id": "jUzaEs8GdAuc"
      },
      "execution_count": 24,
      "outputs": []
    },
    {
      "cell_type": "code",
      "execution_count": 25,
      "metadata": {
        "id": "oKzLJI7XEsy7"
      },
      "outputs": [],
      "source": [
        "from sklearn.metrics import roc_auc_score, f1_score, precision_score, recall_score, confusion_matrix, accuracy_score\n",
        "from sklearn import metrics\n",
        "\n",
        "x_train_task = train\n",
        "x_test_task = test\n",
        "\n",
        "#EM Algorithm\n",
        "M = 2\n",
        "P = [0.3, 0.7]\n",
        "alpha_old = alpha_zero\n",
        "max_iter = 3\n",
        "for iteration in range(max_iter):\n",
        "  Z = expectation_step(x_train_task,alpha_old,P,M)\n",
        "  alpha_new = update_alpha(x_train_task,alpha_old,Z,M)\n",
        "  P = np.clip(update_P(Z),10**(-15),None)\n",
        "  alpha_old = alpha_new"
      ]
    },
    {
      "cell_type": "code",
      "source": [
        "from sklearn.metrics import roc_auc_score, f1_score, precision_score, recall_score, confusion_matrix, accuracy_score\n",
        "from sklearn import metrics\n",
        "\n",
        "predictions_bin = []\n",
        "for row in x_test_task:\n",
        "      log_posteriors = np.exp(np.log(P)+log_dir(row,alpha_new))\n",
        "      predicted_label = np.argmin(log_posteriors)\n",
        "      predictions_bin.append(predicted_label)\n",
        "predictions_bin = np.asarray(predictions_bin)\n",
        "labels = np.array(y_test).flatten()\n",
        "f1 = f1_score(labels, predictions_bin)\n",
        "precision = precision_score(labels, predictions_bin)\n",
        "recall = recall_score(labels, predictions_bin)\n",
        "acc = accuracy_score(labels, predictions_bin)\n",
        "\n",
        "print(\"F1 score:\", f1)\n",
        "print(\"Precision:\", precision)\n",
        "print(\"Recall:\", recall)\n",
        "print(\"Accuracy:\", acc)"
      ],
      "metadata": {
        "colab": {
          "base_uri": "https://localhost:8080/"
        },
        "id": "LBmweL1oYTPX",
        "outputId": "310be9b8-3c90-4205-bedb-80514bb27b00"
      },
      "execution_count": 26,
      "outputs": [
        {
          "output_type": "stream",
          "name": "stdout",
          "text": [
            "F1 score: 0.8916546574086205\n",
            "Precision: 0.9366914395816129\n",
            "Recall: 0.85075\n",
            "Accuracy: 0.8297653355290243\n"
          ]
        }
      ]
    },
    {
      "cell_type": "code",
      "source": [
        "cm = confusion_matrix(labels, predictions_bin)\n",
        "cm_display = metrics.ConfusionMatrixDisplay(confusion_matrix = cm, display_labels = ['YES Class', 'NO Class'])\n",
        "cm_display.plot()\n",
        "cm_display.ax_.set_title('DMM BANK DATA')\n",
        "plt.show()"
      ],
      "metadata": {
        "colab": {
          "base_uri": "https://localhost:8080/",
          "height": 472
        },
        "id": "EmOJj4LbYWTT",
        "outputId": "bec3bbb2-5759-4023-eeb7-b3063f45b68a"
      },
      "execution_count": 27,
      "outputs": [
        {
          "output_type": "display_data",
          "data": {
            "text/plain": [
              "<Figure size 640x480 with 2 Axes>"
            ],
            "image/png": "[encoded data removed]"
          },
          "metadata": {}
        }
      ]
    },
    {
      "cell_type": "code",
      "source": [],
      "metadata": {
        "id": "YMS362FFZchM"
      },
      "execution_count": 27,
      "outputs": []
    }
  ],
  "metadata": {
    "colab": {
      "provenance": []
    },
    "kernelspec": {
      "display_name": "Python 3",
      "name": "python3"
    },
    "language_info": {
      "name": "python"
    }
  },
  "nbformat": 4,
  "nbformat_minor": 0
}