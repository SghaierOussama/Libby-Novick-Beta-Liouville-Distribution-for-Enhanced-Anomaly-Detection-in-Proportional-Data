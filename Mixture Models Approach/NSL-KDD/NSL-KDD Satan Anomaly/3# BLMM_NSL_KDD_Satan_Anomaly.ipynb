{
  "cells": [
    {
      "cell_type": "code",
      "execution_count": 1,
      "metadata": {
        "id": "1JehaGAsi5wj"
      },
      "outputs": [],
      "source": [
        "import pandas as pd\n",
        "import numpy as np\n",
        "import tensorflow as tf\n",
        "import matplotlib.pyplot as plt\n",
        "from sklearn.preprocessing import Normalizer\n",
        "from sklearn.preprocessing import MinMaxScaler\n",
        "import random\n",
        "random.seed(0)\n",
        "tf.random.set_seed(0)\n",
        "np.random.seed(0)"
      ]
    },
    {
      "cell_type": "markdown",
      "metadata": {
        "id": "b3txogskoCCR"
      },
      "source": [
        "## **Load the Data**"
      ]
    },
    {
      "cell_type": "code",
      "source": [
        "train = pd.read_csv('/content/train_kdd_nsl.csv')\n",
        "test = pd.read_csv('/content/test_kdd_nsl.csv')"
      ],
      "metadata": {
        "id": "KWTu_wMdP3qB"
      },
      "execution_count": 2,
      "outputs": []
    },
    {
      "cell_type": "code",
      "source": [
        "train = train.drop_duplicates()\n",
        "train = train.drop(columns = ['service','land','wrong_fragment','urgent','hot','num_failed_logins','rerror_rate','srv_rerror_rate','is_guest_login','is_hot_login','num_outband_cmds','num_access_files','num_shells','num_compromised'],axis=0)"
      ],
      "metadata": {
        "id": "0kqoOLnwP3l-"
      },
      "execution_count": 3,
      "outputs": []
    },
    {
      "cell_type": "code",
      "source": [
        "test = test.drop_duplicates()\n",
        "test = test.drop(columns = ['service','land','wrong_fragment','urgent','hot','num_failed_logins','rerror_rate','srv_rerror_rate','is_guest_login','is_hot_login','num_outband_cmds','num_access_files','num_shells','num_compromised'],axis=0)"
      ],
      "metadata": {
        "id": "q-_zIqOClG7M"
      },
      "execution_count": 4,
      "outputs": []
    },
    {
      "cell_type": "code",
      "source": [
        "train = train.loc[(train[\"connection_type\"] == 'normal')|(train[\"connection_type\"] == 'satan')]\n",
        "test = test.loc[(test[\"connection_type\"] == 'normal')|(test[\"connection_type\"] == 'satan')]"
      ],
      "metadata": {
        "id": "IseSmbbx4XLu"
      },
      "execution_count": 5,
      "outputs": []
    },
    {
      "cell_type": "code",
      "source": [
        "train = train.reset_index(drop = True)   #reset index for the train data\n",
        "test = test.reset_index(drop = True)     #reset index for the test data"
      ],
      "metadata": {
        "id": "My5glYbl9phc"
      },
      "execution_count": 6,
      "outputs": []
    },
    {
      "cell_type": "code",
      "source": [
        "train['protocole_type'] = [0.8 if elem == 'tcp' else 0.15 if elem == 'udp' else 0.05 for elem in train['protocole_type']]\n",
        "train['flag'] = [0.6 if elem=='SF' else 0.2 if elem=='S0' else 0.1 if elem=='REJ' else 0.05 for elem in train['flag']]"
      ],
      "metadata": {
        "id": "vPY8w-aA7nvm"
      },
      "execution_count": 7,
      "outputs": []
    },
    {
      "cell_type": "code",
      "source": [
        "test['protocole_type'] = [0.8 if elem == 'tcp' else 0.15 if elem == 'udp' else 0.05 for elem in test['protocole_type']]\n",
        "test['flag'] = [0.6 if elem=='SF' else 0.2 if elem=='S0' else 0.1 if elem=='REJ' else 0.05 for elem in test['flag']]"
      ],
      "metadata": {
        "id": "nRPl3gg47twF"
      },
      "execution_count": 8,
      "outputs": []
    },
    {
      "cell_type": "code",
      "source": [
        "#This function is used to encode a vector as follows:\n",
        "def encoding(y):\n",
        "  enc = [1 if y[i]=='normal' else 0 for i in range(len(y))]\n",
        "  return pd.DataFrame(enc)"
      ],
      "metadata": {
        "id": "RxlnU_mPRpp9"
      },
      "execution_count": 9,
      "outputs": []
    },
    {
      "cell_type": "code",
      "source": [
        "y_train = train['connection_type']\n",
        "y_test = test['connection_type']"
      ],
      "metadata": {
        "id": "kY4_a14kP3ja"
      },
      "execution_count": 10,
      "outputs": []
    },
    {
      "cell_type": "code",
      "source": [
        "y_train = encoding(y_train)\n",
        "y_test = encoding(y_test)"
      ],
      "metadata": {
        "id": "pouzU9J59XwH"
      },
      "execution_count": 11,
      "outputs": []
    },
    {
      "cell_type": "code",
      "source": [
        "train = train.drop(['connection_type'],axis=1)\n",
        "test = test.drop(['connection_type'],axis=1)"
      ],
      "metadata": {
        "id": "K0xbc2UE7MCP"
      },
      "execution_count": 12,
      "outputs": []
    },
    {
      "cell_type": "code",
      "source": [
        "scaler = MinMaxScaler()\n",
        "train = scaler.fit_transform(train)\n",
        "train = np.array(train)\n",
        "train = train / train.sum(axis=1, keepdims=True)\n",
        "train = np.clip(train,0.0000005,None)"
      ],
      "metadata": {
        "id": "6oT9a-cfP3f3"
      },
      "execution_count": 13,
      "outputs": []
    },
    {
      "cell_type": "code",
      "source": [
        "scaler = MinMaxScaler()\n",
        "test = scaler.fit_transform(test)\n",
        "test = np.array(test)\n",
        "test = test / test.sum(axis=1, keepdims=True)\n",
        "test = np.clip(test,0.0000005,None)"
      ],
      "metadata": {
        "id": "hTWazguQQbyb"
      },
      "execution_count": 14,
      "outputs": []
    },
    {
      "cell_type": "markdown",
      "metadata": {
        "id": "E-PdJlxWx0Pr"
      },
      "source": [
        "## **Expectation Step**"
      ]
    },
    {
      "cell_type": "code",
      "execution_count": 15,
      "metadata": {
        "id": "dPgXSIP8OhH7"
      },
      "outputs": [],
      "source": [
        "from scipy.special import gamma, digamma, gammaln, psi,polygamma\n",
        "def log_bl(row,thetas):\n",
        "  log_bl = []\n",
        "  for theta in thetas:\n",
        "    alpha_K, alpha, beta = theta[:len(theta)-2], theta[len(theta)-2], theta[len(theta)-1]\n",
        "    c = gammaln(np.sum(alpha_K)) + gammaln(alpha+beta) - gammaln(alpha) - gammaln(beta)\n",
        "    q1 = (alpha-np.sum(alpha_K))*np.log(np.mean(row)) + (beta-1)*np.log(np.abs(1-np.mean(row)))\n",
        "    q2 = np.sum(((alpha_K)-1)*np.log(row)) - np.sum(np.log(alpha_K))\n",
        "    log_bl.append(c+q1+q2)\n",
        "  return log_bl"
      ]
    },
    {
      "cell_type": "code",
      "execution_count": 16,
      "metadata": {
        "id": "oWqaKJ2tYL7K"
      },
      "outputs": [],
      "source": [
        "def expectation_step(data, thetas, P,number_of_clusters):\n",
        "    Z = np.zeros((len(data), number_of_clusters))\n",
        "\n",
        "    for i, row in enumerate(data):\n",
        "        log_posteriors = np.log(P) + log_bl(row, thetas)\n",
        "        log_posteriors -= np.max(log_posteriors)\n",
        "        posteriors = np.exp(log_posteriors)\n",
        "        Z[i] = posteriors / np.sum(posteriors)\n",
        "    return Z"
      ]
    },
    {
      "cell_type": "markdown",
      "metadata": {
        "id": "kQ-XEEQeJVhz"
      },
      "source": [
        "## **Maximization Step** ##"
      ]
    },
    {
      "cell_type": "code",
      "execution_count": 17,
      "metadata": {
        "id": "_dk35Z0tI-3Y"
      },
      "outputs": [],
      "source": [
        "def update_P(Z):\n",
        "  return np.mean(Z,axis=0)"
      ]
    },
    {
      "cell_type": "code",
      "execution_count": 18,
      "metadata": {
        "id": "YvL4_XjMrKyY"
      },
      "outputs": [],
      "source": [
        "def normalize_theta(arr, m, M):\n",
        "    min_val = min(arr)\n",
        "    max_val = max(arr)\n",
        "    normalized_arr = []\n",
        "\n",
        "    for value in arr:\n",
        "        normalized_value = m + ((value - min_val) * (M - m) / (max_val - min_val))\n",
        "        normalized_arr.append(normalized_value)\n",
        "\n",
        "    return normalized_arr"
      ]
    },
    {
      "cell_type": "code",
      "source": [
        "def calcul_inv_hess_vect(data,theta,Z,number_of_clusters):\n",
        "  ((N, K),M) = (data.shape,number_of_clusters)\n",
        "  Z_mean = np.clip(np.mean(Z,axis=0),10**(-15),None)\n",
        "  inv_hess_vect_matrices = []\n",
        "  for j in range(M):\n",
        "    theta_j = theta[j]\n",
        "    vect_alpha_j = theta_j[:len(theta_j)-2]\n",
        "    S = np.diag([-1/(float(polygamma(1,vect_alpha_j[m]))*N*Z_mean[j]) for m in range(K)])\n",
        "    a_T = np.array([[-1/(float(polygamma(1,vect_alpha_j[m]))*N*Z_mean[j]) for m in range(K)]])\n",
        "    gamma_et = float(polygamma(1,np.sum(vect_alpha_j)))*N*Z_mean[j] / (1+float(polygamma(1,np.sum(vect_alpha_j)))*N*Z_mean[j]*np.sum([-1/(np.sum(vect_alpha_j)*N*Z_mean[j]) for m in range(K)]))\n",
        "    H_inv = S + gamma_et*np.dot(a_T.T,a_T)\n",
        "    inv_hess_vect_matrices.append(H_inv)\n",
        "  return inv_hess_vect_matrices"
      ],
      "metadata": {
        "id": "wQFxivJ8ULjq"
      },
      "execution_count": 19,
      "outputs": []
    },
    {
      "cell_type": "code",
      "source": [
        "def calcul_inv_hess_non_vect(data,theta,Z,number_of_clusters):\n",
        "  M, N = number_of_clusters, data.shape[0]\n",
        "  Z_mean = np.clip(np.mean(Z,axis=0),10**(-6),None)\n",
        "  inv_hess_non_vect_matrices = []\n",
        "  for j in range(M):\n",
        "    theta_j = theta[j]\n",
        "    H_j = np.zeros((2,2))\n",
        "    alpha_j, beta_j = theta_j[len(theta_j)-2], theta_j[len(theta_j)-1]\n",
        "    H_j[0][0] = N*Z_mean[j]*(float(polygamma(1,alpha_j+beta_j)) - float(polygamma(1,alpha_j)))\n",
        "    H_j[1][1] = N*Z_mean[j]*(float(polygamma(1,alpha_j+beta_j)) - float(polygamma(1,beta_j)))\n",
        "    H_j[0][1] = H_j[1][0] = N*Z_mean[j]*float(polygamma(1,alpha_j+beta_j))\n",
        "    inv_H_j = np.linalg.inv(H_j)\n",
        "    inv_hess_non_vect_matrices.append(inv_H_j)\n",
        "  return inv_hess_non_vect_matrices"
      ],
      "metadata": {
        "id": "0cQ-gJAoaaOr"
      },
      "execution_count": 20,
      "outputs": []
    },
    {
      "cell_type": "code",
      "source": [
        "def derivative(data,theta_old,Z,number_of_clusters):\n",
        "  ((N, K),M) = (data.shape,number_of_clusters)\n",
        "  Z_mean = np.mean(Z,axis=0)\n",
        "  der_param = []\n",
        "  for j in range(M):\n",
        "    der_vect_alpha_j = np.zeros(K)\n",
        "    theta_old_j = theta_old[j]\n",
        "    vect_alpha_old_j, alpha_old_j, beta_old_j = theta_old_j[:len(theta_old_j)-2], theta_old_j[len(theta_old_j)-2], theta_old_j[len(theta_old_j)-1]\n",
        "    for s in range(K):\n",
        "      der_vect_alpha_j[s] =N*Z_mean[j]*(psi(np.sum(vect_alpha_old_j)) - psi(vect_alpha_old_j[s])) - np.sum( Z[:,j]*np.log(data[:,s]) )\n",
        "    der_alpha_j = N*Z_mean[j]*(psi(alpha_old_j+beta_old_j)-psi(alpha_old_j)) + np.sum([Z[i][j]*np.log(np.mean(data[i])) for i in range(N)])\n",
        "    der_beta_j = N*Z_mean[j]*(psi(alpha_old_j+beta_old_j)-psi(alpha_old_j)) + np.sum([Z[i][j]*np.log(1-np.mean(data[i])) for i in range(N)])\n",
        "    der_theta_j = np.concatenate((der_vect_alpha_j, der_alpha_j,der_beta_j), axis=None)\n",
        "    der_param.append(der_theta_j)\n",
        "  return der_param"
      ],
      "metadata": {
        "id": "e2Ir_85Vaut_"
      },
      "execution_count": 21,
      "outputs": []
    },
    {
      "cell_type": "code",
      "execution_count": 22,
      "metadata": {
        "id": "H4k9DX5jJs_Y"
      },
      "outputs": [],
      "source": [
        "from keras.utils.generic_utils import to_list\n",
        "def update_theta(data,theta_old,Z,number_of_clusters):\n",
        "  M = number_of_clusters\n",
        "  H_non_vect, H_vect = calcul_inv_hess_non_vect(data,theta_old,Z,number_of_clusters), calcul_inv_hess_vect(data,theta_old,Z,number_of_clusters)\n",
        "  der_param = derivative(data,theta_old,Z,number_of_clusters)\n",
        "  theta_new = []\n",
        "  for j in range(M):\n",
        "    (theta_old_j,der_param_j,H_non_vect_j,H_vect_j) = (theta_old[j],der_param[j],H_non_vect[j],H_vect[j])\n",
        "    (vect_alpha_old_j, alpha_beta_old_j,der_vect_alpha_old_j, der_alpha_beta_old_j) = (theta_old_j[:len(theta_old_j)-2], theta_old_j[len(theta_old_j)-2:],der_param_j[:len(der_param_j)-2], der_param_j[len(der_param_j)-2:])\n",
        "    vect_alpha_new_j = vect_alpha_old_j - np.dot(H_vect_j,der_vect_alpha_old_j)\n",
        "    alpha_beta_new_j = alpha_beta_old_j - np.dot(H_non_vect_j,der_alpha_beta_old_j)\n",
        "    theta_new.append(np.clip(normalize_theta(np.concatenate((vect_alpha_new_j,alpha_beta_new_j), axis=None),5,10),10**(-15),None))\n",
        "  return theta_new"
      ]
    },
    {
      "cell_type": "code",
      "source": [
        "#After several realizations of initialization, this initialization gave us the best results\n",
        "theta_zero = [np.array([5.53325369, 7.18037473, 6.06735742, 5.49434351, 4.29418251,\n",
        "       6.49435172, 4.43211339, 8.92855271, 9.64026133, 3.89607104,\n",
        "       7.93807788, 5.33605971, 5.72364115, 9.26340672, 0.80325698,\n",
        "       0.96258007, 0.30016213, 8.34293647, 7.80375183, 8.71312027,\n",
        "       9.78832159, 8.01166979, 4.66864569, 7.82723885, 1.27091682,\n",
        "       6.43521811, 1.51919755, 9.45222228, 5.26629839]), np.array([4.20515321, 2.71910056, 7.76491353, 4.61588829, 5.72749609,\n",
        "       0.28601902, 6.21459142, 6.15974765, 6.20764657, 9.44310598,\n",
        "       6.85002096, 3.65912822, 4.42661634, 7.00654884, 0.69623217,\n",
        "       6.70099048, 6.73931491, 2.18278735, 1.37637035, 3.22274067,\n",
        "       3.70073663, 5.74494803, 4.44215498, 9.884901  , 1.11024363,\n",
        "       2.16787989, 1.69696423, 6.56577242, 2.60758687])]"
      ],
      "metadata": {
        "id": "4X_wf37a9biv"
      },
      "execution_count": 23,
      "outputs": []
    },
    {
      "cell_type": "code",
      "execution_count": 24,
      "metadata": {
        "id": "oKzLJI7XEsy7"
      },
      "outputs": [],
      "source": [
        "from sklearn.metrics import roc_auc_score, f1_score, precision_score, recall_score, confusion_matrix, accuracy_score\n",
        "from sklearn import metrics\n",
        "\n",
        "x_train_task = train\n",
        "x_test_task = test\n",
        "\n",
        "#EM Algorithm\n",
        "M = 2\n",
        "P = [0.4, 0.6]\n",
        "theta_old = theta_zero\n",
        "max_iter = 3\n",
        "for iteration in range(max_iter):\n",
        "  Z = expectation_step(x_train_task,theta_old,P,M)\n",
        "  theta_new = update_theta(x_train_task,theta_old,Z,M)\n",
        "  P = np.clip(update_P(Z),10**(-15),None)\n",
        "  theta_old = theta_new"
      ]
    },
    {
      "cell_type": "code",
      "source": [
        "from sklearn.metrics import roc_auc_score, f1_score, precision_score, recall_score, confusion_matrix, accuracy_score\n",
        "from sklearn import metrics\n",
        "\n",
        "predictions_bin = []\n",
        "for row in x_test_task:\n",
        "      log_posteriors = np.exp(np.log(P)+log_bl(row,theta_new))\n",
        "      predicted_label = np.argmax(log_posteriors)\n",
        "      predictions_bin.append(predicted_label)\n",
        "predictions_bin = np.asarray(predictions_bin)\n",
        "labels = np.array(y_test).flatten()\n",
        "f1 = f1_score(labels, predictions_bin)\n",
        "precision = precision_score(labels, predictions_bin)\n",
        "recall = recall_score(labels, predictions_bin)\n",
        "acc = accuracy_score(labels, predictions_bin)\n",
        "\n",
        "print(\"F1 score:\", f1)\n",
        "print(\"Precision:\", precision)\n",
        "print(\"Recall:\", recall)\n",
        "print(\"Accuracy:\", acc)"
      ],
      "metadata": {
        "id": "Yh7vHvGmrWGO",
        "colab": {
          "base_uri": "https://localhost:8080/"
        },
        "outputId": "0bca2d2d-f915-4feb-afe2-47120adf6571"
      },
      "execution_count": 25,
      "outputs": [
        {
          "output_type": "stream",
          "name": "stdout",
          "text": [
            "F1 score: 0.9839409949259822\n",
            "Precision: 0.9998936848819903\n",
            "Recall: 0.9684893419833179\n",
            "Accuracy: 0.9706107600995596\n"
          ]
        }
      ]
    },
    {
      "cell_type": "code",
      "source": [
        "cm = confusion_matrix(labels, predictions_bin)\n",
        "cm_display = metrics.ConfusionMatrixDisplay(confusion_matrix = cm, display_labels = ['Satan Class', 'Normal Class'])\n",
        "cm_display.plot()\n",
        "cm_display.ax_.set_title('BLMM NSL-KDD Satan Anomaly')\n",
        "plt.show()"
      ],
      "metadata": {
        "colab": {
          "base_uri": "https://localhost:8080/",
          "height": 472
        },
        "id": "cxyFOKKt4sXS",
        "outputId": "7b63560f-972b-4614-9b06-8e7a5c415429"
      },
      "execution_count": 28,
      "outputs": [
        {
          "output_type": "display_data",
          "data": {
            "text/plain": [
              "<Figure size 640x480 with 2 Axes>"
            ],
            "image/png": "[encoded data removed]"
          },
          "metadata": {}
        }
      ]
    },
    {
      "cell_type": "code",
      "source": [],
      "metadata": {
        "id": "zbQf1k3P8ztA"
      },
      "execution_count": 26,
      "outputs": []
    }
  ],
  "metadata": {
    "colab": {
      "provenance": []
    },
    "kernelspec": {
      "display_name": "Python 3",
      "name": "python3"
    },
    "language_info": {
      "name": "python"
    }
  },
  "nbformat": 4,
  "nbformat_minor": 0
}