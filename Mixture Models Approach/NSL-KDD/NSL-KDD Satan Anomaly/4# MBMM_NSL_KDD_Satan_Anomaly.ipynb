{
  "cells": [
    {
      "cell_type": "code",
      "execution_count": 1,
      "metadata": {
        "id": "1JehaGAsi5wj"
      },
      "outputs": [],
      "source": [
        "import pandas as pd\n",
        "import numpy as np\n",
        "import tensorflow as tf\n",
        "import matplotlib.pyplot as plt\n",
        "from sklearn.preprocessing import Normalizer\n",
        "from sklearn.preprocessing import MinMaxScaler\n",
        "import random\n",
        "random.seed(0)\n",
        "tf.random.set_seed(0)\n",
        "np.random.seed(0)"
      ]
    },
    {
      "cell_type": "markdown",
      "metadata": {
        "id": "b3txogskoCCR"
      },
      "source": [
        "## **Load the Data**"
      ]
    },
    {
      "cell_type": "code",
      "execution_count": 2,
      "metadata": {
        "id": "KWTu_wMdP3qB"
      },
      "outputs": [],
      "source": [
        "train = pd.read_csv('/content/train_kdd_nsl.csv')\n",
        "test = pd.read_csv('/content/test_kdd_nsl.csv')"
      ]
    },
    {
      "cell_type": "code",
      "execution_count": 3,
      "metadata": {
        "id": "0kqoOLnwP3l-"
      },
      "outputs": [],
      "source": [
        "train = train.drop_duplicates()\n",
        "train = train.drop(columns = ['service','land','wrong_fragment','urgent','hot','num_failed_logins','rerror_rate','srv_rerror_rate','is_guest_login','is_hot_login','num_outband_cmds','num_access_files','num_shells','num_compromised'],axis=0)"
      ]
    },
    {
      "cell_type": "code",
      "execution_count": 4,
      "metadata": {
        "id": "q-_zIqOClG7M"
      },
      "outputs": [],
      "source": [
        "test = test.drop_duplicates()\n",
        "test = test.drop(columns = ['service','land','wrong_fragment','urgent','hot','num_failed_logins','rerror_rate','srv_rerror_rate','is_guest_login','is_hot_login','num_outband_cmds','num_access_files','num_shells','num_compromised'],axis=0)"
      ]
    },
    {
      "cell_type": "code",
      "execution_count": 5,
      "metadata": {
        "id": "IseSmbbx4XLu"
      },
      "outputs": [],
      "source": [
        "train = train.loc[(train[\"connection_type\"] == 'normal')|(train[\"connection_type\"] == 'satan')]\n",
        "test = test.loc[(test[\"connection_type\"] == 'normal')|(test[\"connection_type\"] == 'satan')]"
      ]
    },
    {
      "cell_type": "code",
      "execution_count": 6,
      "metadata": {
        "id": "My5glYbl9phc"
      },
      "outputs": [],
      "source": [
        "train = train.reset_index(drop = True)   #reset index for the train data\n",
        "test = test.reset_index(drop = True)     #reset index for the test data"
      ]
    },
    {
      "cell_type": "code",
      "execution_count": 7,
      "metadata": {
        "id": "vPY8w-aA7nvm"
      },
      "outputs": [],
      "source": [
        "train['protocole_type'] = [0.8 if elem == 'tcp' else 0.15 if elem == 'udp' else 0.05 for elem in train['protocole_type']]\n",
        "train['flag'] = [0.6 if elem=='SF' else 0.2 if elem=='S0' else 0.1 if elem=='REJ' else 0.05 for elem in train['flag']]"
      ]
    },
    {
      "cell_type": "code",
      "execution_count": 8,
      "metadata": {
        "id": "nRPl3gg47twF"
      },
      "outputs": [],
      "source": [
        "test['protocole_type'] = [0.8 if elem == 'tcp' else 0.15 if elem == 'udp' else 0.05 for elem in test['protocole_type']]\n",
        "test['flag'] = [0.6 if elem=='SF' else 0.2 if elem=='S0' else 0.1 if elem=='REJ' else 0.05 for elem in test['flag']]"
      ]
    },
    {
      "cell_type": "code",
      "execution_count": 9,
      "metadata": {
        "id": "RxlnU_mPRpp9"
      },
      "outputs": [],
      "source": [
        "#This function is used to encode a vector as follows:\n",
        "'''\n",
        "when the vector element == 'normal', it will be transformed to 1 and to 0 if not\n",
        "'''\n",
        "def encoding(y):\n",
        "  enc = [1 if y[i]=='normal' else 0 for i in range(len(y))]\n",
        "  return pd.DataFrame(enc)"
      ]
    },
    {
      "cell_type": "code",
      "execution_count": 10,
      "metadata": {
        "id": "kY4_a14kP3ja"
      },
      "outputs": [],
      "source": [
        "y_train = train['connection_type']\n",
        "y_test = test['connection_type']"
      ]
    },
    {
      "cell_type": "code",
      "execution_count": 11,
      "metadata": {
        "id": "pouzU9J59XwH"
      },
      "outputs": [],
      "source": [
        "y_train = encoding(y_train)\n",
        "y_test = encoding(y_test)"
      ]
    },
    {
      "cell_type": "code",
      "execution_count": 12,
      "metadata": {
        "id": "K0xbc2UE7MCP"
      },
      "outputs": [],
      "source": [
        "train = train.drop(['connection_type'],axis=1)\n",
        "test = test.drop(['connection_type'],axis=1)"
      ]
    },
    {
      "cell_type": "code",
      "execution_count": 13,
      "metadata": {
        "id": "6oT9a-cfP3f3"
      },
      "outputs": [],
      "source": [
        "scaler = MinMaxScaler()\n",
        "train = scaler.fit_transform(train)\n",
        "train = np.array(train)\n",
        "train = train / train.sum(axis=1, keepdims=True)\n",
        "train = np.clip(train,0.0000005,None)"
      ]
    },
    {
      "cell_type": "code",
      "execution_count": 14,
      "metadata": {
        "id": "hTWazguQQbyb"
      },
      "outputs": [],
      "source": [
        "scaler = MinMaxScaler()\n",
        "test = scaler.fit_transform(test)\n",
        "test = np.array(test)\n",
        "test = test / test.sum(axis=1, keepdims=True)\n",
        "test = np.clip(test,0.0000005,None)"
      ]
    },
    {
      "cell_type": "markdown",
      "metadata": {
        "id": "E-PdJlxWx0Pr"
      },
      "source": [
        "## **Expectation Step**"
      ]
    },
    {
      "cell_type": "code",
      "execution_count": 15,
      "metadata": {
        "id": "dPgXSIP8OhH7"
      },
      "outputs": [],
      "source": [
        "from scipy.special import gamma, digamma, gammaln, psi,polygamma\n",
        "def log_mb(row,alphas):\n",
        "  log_mb = []\n",
        "  for alpha in alphas:\n",
        "    q = gammaln(np.sum(alpha)) - np.sum(gammaln(alpha)) + np.sum((alpha-1)*np.log(row)) - np.sum((alpha+1)*np.log(1-row)) - np.sum(alpha)*np.log(1+np.sum(row/(1-row)))\n",
        "    log_mb.append(q)\n",
        "  return np.array(log_mb)"
      ]
    },
    {
      "cell_type": "code",
      "execution_count": 16,
      "metadata": {
        "id": "oWqaKJ2tYL7K"
      },
      "outputs": [],
      "source": [
        "def expectation_step(data, alphas, P,number_of_clusters):\n",
        "    Z = np.zeros((len(data), number_of_clusters))\n",
        "\n",
        "    for i, row in enumerate(data):\n",
        "        log_posteriors = np.log(P) + log_mb(row, alphas)\n",
        "        log_posteriors -= np.max(log_posteriors)\n",
        "        posteriors = np.exp(log_posteriors)\n",
        "        Z[i] = posteriors / np.sum(posteriors)\n",
        "    return Z"
      ]
    },
    {
      "cell_type": "markdown",
      "metadata": {
        "id": "kQ-XEEQeJVhz"
      },
      "source": [
        "## **Maximization Step** ##"
      ]
    },
    {
      "cell_type": "code",
      "execution_count": 17,
      "metadata": {
        "id": "_dk35Z0tI-3Y"
      },
      "outputs": [],
      "source": [
        "def update_P(Z):\n",
        "  return np.mean(Z,axis=0)"
      ]
    },
    {
      "cell_type": "code",
      "execution_count": 18,
      "metadata": {
        "id": "YvL4_XjMrKyY"
      },
      "outputs": [],
      "source": [
        "def normalize_alpha(arr, m, M):\n",
        "    min_val = min(arr)\n",
        "    max_val = max(arr)\n",
        "    normalized_arr = []\n",
        "\n",
        "    for value in arr:\n",
        "        normalized_value = m + ((value - min_val) * (M - m) / (max_val - min_val))\n",
        "        normalized_arr.append(normalized_value)\n",
        "\n",
        "    return normalized_arr"
      ]
    },
    {
      "cell_type": "code",
      "execution_count": 19,
      "metadata": {
        "id": "0cQ-gJAoaaOr"
      },
      "outputs": [],
      "source": [
        "def calcul_inv_hess_vect(data,alpha,Z,number_of_clusters):\n",
        "  ((N, K),M) = (data.shape,number_of_clusters)\n",
        "  Z_mean = np.clip(np.mean(Z,axis=0),10**(-15),None)\n",
        "  inv_hess_vect_matrices = []\n",
        "  for j in range(M):\n",
        "    alpha_j = alpha[j]\n",
        "    S = np.diag([-1/np.clip(float(polygamma(1,alpha_j[m]))*N*Z_mean[j],10**(-7),None) for m in range(K)])\n",
        "    a_T = np.array([[-1/np.clip(float(polygamma(1,alpha_j[m]))*N*Z_mean[j],10**(-7),None) for m in range(K)]])\n",
        "    gamma_et = float(polygamma(1,np.sum(alpha_j)))*N*Z_mean[j] / (1+float(polygamma(1,np.sum(alpha_j)))*N*Z_mean[j]*np.sum([-1/np.clip(float(polygamma(1,alpha_j[m]))*N*Z_mean[j],10**(-7),None) for m in range(K)]))\n",
        "    H_inv = S + gamma_et*np.dot(a_T.T,a_T)\n",
        "    inv_hess_vect_matrices.append(H_inv)\n",
        "  return inv_hess_vect_matrices"
      ]
    },
    {
      "cell_type": "code",
      "execution_count": 20,
      "metadata": {
        "id": "e2Ir_85Vaut_"
      },
      "outputs": [],
      "source": [
        "def derivative(data,alpha_old,Z,number_of_clusters):\n",
        "  ((N, K),M) = (data.shape,number_of_clusters)\n",
        "  Z_mean = np.mean(Z,axis=0)\n",
        "  der_param = []\n",
        "  for j in range(M):\n",
        "    der_vect_alpha_j = np.zeros(K)\n",
        "    alpha_old_j = alpha_old[j]\n",
        "    for s in range(K):\n",
        "      der_vect_alpha_j[s] =N*Z_mean[j]*(psi(np.sum(alpha_old_j)) - psi(alpha_old_j[s])) + np.sum( Z[:,j]*np.log(data[:,s]) ) - np.sum( Z[:,j]*np.log(1-data[:,s]) ) - np.sum( Z[:,j]*np.log(1+np.sum(data[:,s]/(1-data[:,s]))) )\n",
        "    der_param.append(der_vect_alpha_j)\n",
        "  return der_param"
      ]
    },
    {
      "cell_type": "code",
      "execution_count": 21,
      "metadata": {
        "id": "H4k9DX5jJs_Y"
      },
      "outputs": [],
      "source": [
        "def update_alpha(data,alpha_old,Z,number_of_clusters):\n",
        "  M = number_of_clusters\n",
        "  inv_hess = calcul_inv_hess_vect(data,alpha_old,Z,number_of_clusters)\n",
        "  der_param = derivative(data,alpha_old,Z,number_of_clusters)\n",
        "  alpha_new = []\n",
        "  for j in range(M):\n",
        "    (alpha_old_j,der_param_j,Hess_j) = (alpha_old[j],der_param[j],inv_hess[j])\n",
        "    alpha_new_j = alpha_old_j - np.dot(Hess_j,der_param_j)\n",
        "    alpha_new.append(np.array(normalize_alpha(np.array(alpha_new_j),1,7)))\n",
        "  return alpha_new"
      ]
    },
    {
      "cell_type": "code",
      "source": [
        "#After several realizations of initialization, this initialization gave us the best results\n",
        "alpha_zero = [np.array([3.00773469, 9.5747411 , 5.02412841, 8.61767805, 7.29531348,\n",
        "       3.67693256, 8.32418038, 4.56855167, 8.92992877, 6.23145585,\n",
        "       8.93561826, 7.23278431, 7.52728852, 5.51191944, 9.60475271,\n",
        "       6.79591179, 4.81469544, 6.45753893, 1.17273878, 3.71417335,\n",
        "       6.94156184, 3.61069846, 6.56213886, 4.85891831, 2.21926658,\n",
        "       3.68454093, 6.1296842 ]), np.array([6.31785485, 6.16892724, 6.87880738, 6.86892943, 4.88276592,\n",
        "       9.06891936, 4.30805683, 4.92278433, 9.0273102 , 8.2557459 ,\n",
        "       7.33499725, 1.90204199, 9.27534352, 7.4281717 , 9.98962306,\n",
        "       2.34503474, 8.81313452, 2.46243641, 6.54003608, 2.11437985,\n",
        "       8.63207406, 8.26587063, 6.12190665, 4.66464968, 1.62250296,\n",
        "       7.27685896, 5.08188414])]"
      ],
      "metadata": {
        "id": "YAvJp56QfHWv"
      },
      "execution_count": 22,
      "outputs": []
    },
    {
      "cell_type": "code",
      "execution_count": 23,
      "metadata": {
        "id": "oKzLJI7XEsy7"
      },
      "outputs": [],
      "source": [
        "from sklearn.metrics import roc_auc_score, f1_score, precision_score, recall_score, confusion_matrix, accuracy_score\n",
        "from sklearn import metrics\n",
        "\n",
        "x_train_task = train\n",
        "x_test_task = test\n",
        "\n",
        "#EM Algorithm\n",
        "M = 2\n",
        "P = [0.5, 0.5]\n",
        "alpha_old = alpha_zero\n",
        "max_iter = 3\n",
        "for iteration in range(max_iter):\n",
        "  Z = expectation_step(x_train_task,alpha_old,P,M)\n",
        "  alpha_new = update_alpha(x_train_task,alpha_old,Z,M)\n",
        "  P = np.clip(update_P(Z),10**(-15),None)\n",
        "  alpha_old = alpha_new"
      ]
    },
    {
      "cell_type": "code",
      "execution_count": 24,
      "metadata": {
        "colab": {
          "base_uri": "https://localhost:8080/"
        },
        "id": "Yh7vHvGmrWGO",
        "outputId": "a8232b63-f748-42f2-9e32-d6526076a97e"
      },
      "outputs": [
        {
          "output_type": "stream",
          "name": "stdout",
          "text": [
            "F1 score: 0.8585360122194807\n",
            "Precision: 0.9994528792230885\n",
            "Recall: 0.7524456801565236\n",
            "Accuracy: 0.7694811411066437\n"
          ]
        }
      ],
      "source": [
        "from sklearn.metrics import roc_auc_score, f1_score, precision_score, recall_score, confusion_matrix, accuracy_score\n",
        "from sklearn import metrics\n",
        "\n",
        "predictions_bin = []\n",
        "for row in x_test_task:\n",
        "      log_posteriors = np.exp(np.log(P)+log_mb(row,alpha_new))\n",
        "      predicted_label = np.argmax(log_posteriors)\n",
        "      predictions_bin.append(predicted_label)\n",
        "predictions_bin = np.asarray(predictions_bin)\n",
        "labels = np.array(y_test).flatten()\n",
        "f1 = f1_score(labels, predictions_bin)\n",
        "precision = precision_score(labels, predictions_bin)\n",
        "recall = recall_score(labels, predictions_bin)\n",
        "acc = accuracy_score(labels, predictions_bin)\n",
        "\n",
        "print(\"F1 score:\", f1)\n",
        "print(\"Precision:\", precision)\n",
        "print(\"Recall:\", recall)\n",
        "print(\"Accuracy:\", acc)"
      ]
    },
    {
      "cell_type": "code",
      "execution_count": 25,
      "metadata": {
        "colab": {
          "base_uri": "https://localhost:8080/",
          "height": 472
        },
        "id": "cxyFOKKt4sXS",
        "outputId": "d675b074-e2b5-4e0b-e7f4-46b2f4615fa1"
      },
      "outputs": [
        {
          "output_type": "display_data",
          "data": {
            "text/plain": [
              "<Figure size 640x480 with 2 Axes>"
            ],
            "image/png": "[encoded data removed]"
          },
          "metadata": {}
        }
      ],
      "source": [
        "cm = confusion_matrix(labels, predictions_bin)\n",
        "cm_display = metrics.ConfusionMatrixDisplay(confusion_matrix = cm, display_labels = ['Satan Class', 'Normal Class'])\n",
        "cm_display.plot()\n",
        "cm_display.ax_.set_title('MBMM NSL-KDD Satan Anomaly')\n",
        "plt.show()"
      ]
    },
    {
      "cell_type": "code",
      "execution_count": 25,
      "metadata": {
        "id": "zbQf1k3P8ztA"
      },
      "outputs": [],
      "source": []
    }
  ],
  "metadata": {
    "colab": {
      "provenance": []
    },
    "kernelspec": {
      "display_name": "Python 3",
      "name": "python3"
    },
    "language_info": {
      "name": "python"
    }
  },
  "nbformat": 4,
  "nbformat_minor": 0
}