{
  "cells": [
    {
      "cell_type": "code",
      "execution_count": 1,
      "metadata": {
        "id": "1JehaGAsi5wj"
      },
      "outputs": [],
      "source": [
        "import pandas as pd\n",
        "import numpy as np\n",
        "import tensorflow as tf\n",
        "import matplotlib.pyplot as plt\n",
        "from sklearn.preprocessing import Normalizer\n",
        "from sklearn.preprocessing import MinMaxScaler\n",
        "import random\n",
        "random.seed(0)\n",
        "tf.random.set_seed(0)\n",
        "np.random.seed(0)"
      ]
    },
    {
      "cell_type": "markdown",
      "metadata": {
        "id": "b3txogskoCCR"
      },
      "source": [
        "## **Load the Data**"
      ]
    },
    {
      "cell_type": "code",
      "source": [
        "data = pd.read_csv('/content/bank-additional-full.csv')"
      ],
      "metadata": {
        "id": "KWTu_wMdP3qB"
      },
      "execution_count": 2,
      "outputs": []
    },
    {
      "cell_type": "code",
      "source": [
        "data = data.drop_duplicates()\n",
        "data.shape"
      ],
      "metadata": {
        "id": "0kqoOLnwP3l-",
        "colab": {
          "base_uri": "https://localhost:8080/"
        },
        "outputId": "ce1a1f44-e6ea-4014-d31a-24047235243f"
      },
      "execution_count": 3,
      "outputs": [
        {
          "output_type": "execute_result",
          "data": {
            "text/plain": [
              "(41176, 21)"
            ]
          },
          "metadata": {},
          "execution_count": 3
        }
      ]
    },
    {
      "cell_type": "code",
      "source": [
        "data = data[data['job'] != 'unknown']\n",
        "data = data[data['marital'] != 'unknown']\n",
        "data = data[data['education'] != 'unknown']\n",
        "data = data[data['default'] != 'unknown']\n",
        "data = data[data['housing'] != 'unknown']\n",
        "data = data[data['loan'] != 'unknown']\n",
        "data = data[data['contact'] != 'unknown']\n",
        "data = data[data['month'] != 'unknown']\n",
        "data = data[data['day_of_week'] != 'unknown']\n",
        "data = data[data['poutcome'] != 'unknown']"
      ],
      "metadata": {
        "id": "xmtjHexRA5aD"
      },
      "execution_count": 4,
      "outputs": []
    },
    {
      "cell_type": "code",
      "source": [
        "data['job'] = [0 if elem=='admin.' else 1 if elem=='blue-collar' else 2 if elem=='technician' else 3 if elem=='services' else 4 if elem=='management' else 5 if elem=='retired' else 6 if elem=='entrepreneur' else 7 if elem=='self-employed' else 8 if elem=='housemaid' else 9 if elem=='student' else 10 if elem=='unemployed' else 11 for elem in data['job']]\n",
        "data['marital'] = [0 if elem=='married.' else 1 if elem=='single' else 2 if elem=='divorce' else 3 for elem in data['marital']]\n",
        "data['education'] = [1 if elem=='university.degree' else 2 if elem=='high.school' else 3 if elem=='basic.9y' else 4 if elem=='professional.course' else 5 if elem=='basic.4y' else 6 if elem=='basic.6y' else 7 for elem in data['education']]\n",
        "data['default'] = [1 if elem=='no' else 2 if elem=='yes' else 3 for elem in data['default']]\n",
        "data['housing'] = [1 if elem=='no' else 2 if elem=='yes' else 3 for elem in data['housing']]\n",
        "data['loan'] = [1 if elem=='no' else 2 if elem=='yes' else 3 for elem in data['loan']]\n",
        "data['contact'] = [1 if elem=='cellular' else 2 for elem in data['contact']]\n",
        "data['month'] = [0.5 if elem=='may' else 0.7 if elem=='jul' else 0.8 if elem=='aug' else 0.6 if elem=='jun' else 0.11 if elem=='nov' else 0.4 if elem=='apr' else 0.10 if elem=='oct' else 0.9 if elem=='sep' else 0.3 if elem=='mar' else 0.12 for elem in data['month']]\n",
        "data['day_of_week'] = [0.10 if elem=='mon' else 0.40 if elem=='thu' else 0.30 if elem=='wed' else 0.20 if elem=='tue' else 0.50 for elem in data['day_of_week']]\n",
        "data['poutcome'] = [1 if elem=='nonexistent' else 2 if elem=='failure' else 3 for elem in data['poutcome']]"
      ],
      "metadata": {
        "id": "Rwu5UxJM9W2v"
      },
      "execution_count": 5,
      "outputs": []
    },
    {
      "cell_type": "code",
      "source": [
        "data['y'] = [1 if elem=='no' else 0 for elem in data['y']]"
      ],
      "metadata": {
        "id": "LjIfuFOZ9oCC"
      },
      "execution_count": 6,
      "outputs": []
    },
    {
      "cell_type": "code",
      "source": [
        "data_no = data.loc[data['y']==1]\n",
        "data_yes = data.loc[data['y']==0]"
      ],
      "metadata": {
        "id": "IseSmbbx4XLu"
      },
      "execution_count": 7,
      "outputs": []
    },
    {
      "cell_type": "code",
      "source": [
        "data_no_train = data_no[10000:25000]\n",
        "data_no_test = data_no[:4000]\n",
        "data_yes_train = data_yes[:3000]\n",
        "data_yes_test = data_yes[3000:]"
      ],
      "metadata": {
        "id": "SBfXCypVE7w8"
      },
      "execution_count": 8,
      "outputs": []
    },
    {
      "cell_type": "code",
      "source": [
        "train = pd.DataFrame(pd.concat([data_no_train,data_yes_train]))\n",
        "test = pd.DataFrame(pd.concat([data_no_test,data_yes_test]))"
      ],
      "metadata": {
        "id": "M5GrO6f3E7tP"
      },
      "execution_count": 9,
      "outputs": []
    },
    {
      "cell_type": "code",
      "source": [
        "train = train.reset_index(drop = True)   #reset index for the train data\n",
        "test = test.reset_index(drop = True)     #reset index for the test data"
      ],
      "metadata": {
        "id": "6dnqmzzmE7qy"
      },
      "execution_count": 10,
      "outputs": []
    },
    {
      "cell_type": "code",
      "source": [
        "y_train = train['y']\n",
        "y_test = test['y']"
      ],
      "metadata": {
        "id": "gmli6Wi3FBgZ"
      },
      "execution_count": 11,
      "outputs": []
    },
    {
      "cell_type": "code",
      "source": [
        "train = train.drop(['y'],axis=1)\n",
        "test = test.drop(['y'],axis=1)"
      ],
      "metadata": {
        "id": "CCp_xZCAFBcS"
      },
      "execution_count": 12,
      "outputs": []
    },
    {
      "cell_type": "code",
      "source": [
        "scaler = MinMaxScaler()\n",
        "train = scaler.fit_transform(train)\n",
        "train = np.array(train)\n",
        "train = train / train.sum(axis=1, keepdims=True)\n",
        "train = np.clip(train,0.0000005,None)"
      ],
      "metadata": {
        "id": "My5glYbl9phc"
      },
      "execution_count": 13,
      "outputs": []
    },
    {
      "cell_type": "code",
      "source": [
        "scaler = MinMaxScaler()\n",
        "test = scaler.fit_transform(test)\n",
        "test = np.array(test)\n",
        "test = test / test.sum(axis=1, keepdims=True)\n",
        "test = np.clip(test,0.0000005,None)"
      ],
      "metadata": {
        "id": "BVcl0DvvW7lK"
      },
      "execution_count": 14,
      "outputs": []
    },
    {
      "cell_type": "markdown",
      "source": [
        "##**Parameter Estimaion**"
      ],
      "metadata": {
        "id": "C9TE-uZpomdd"
      }
    },
    {
      "cell_type": "code",
      "source": [
        "def moment_initialization(data):\n",
        "  mean = np.mean(data,axis=0)\n",
        "  mean_square = np.mean(data**2,axis=0)\n",
        "  alpha = np.zeros(data.shape[1])\n",
        "  for k in range(data.shape[1]):\n",
        "    alpha[k] = mean[k]*(mean[k]-mean_square[k])/(mean_square[k]-(mean[k])**2)\n",
        "  return alpha"
      ],
      "metadata": {
        "id": "og8iKlh1gP5z"
      },
      "execution_count": 15,
      "outputs": []
    },
    {
      "cell_type": "code",
      "execution_count": 16,
      "metadata": {
        "id": "dPgXSIP8OhH7"
      },
      "outputs": [],
      "source": [
        "from scipy.special import gamma, digamma, gammaln, psi,polygamma\n",
        "def log_bl(row,theta):\n",
        "  alpha_K, alpha, beta = theta[:len(theta)-2], theta[len(theta)-2], theta[len(theta)-1]\n",
        "  c = gammaln(np.sum(alpha_K)) + gammaln(alpha+beta) - gammaln(alpha) - gammaln(beta)\n",
        "  q1 = (alpha-np.sum(alpha_K))*np.log(np.mean(row)) + (beta-1)*np.log(np.abs(1-np.mean(row)))\n",
        "  q2 = np.sum(((alpha_K)-1)*np.log(row)) - np.sum(np.log(alpha_K))\n",
        "  return c+q1+q2"
      ]
    },
    {
      "cell_type": "code",
      "execution_count": 17,
      "metadata": {
        "id": "YvL4_XjMrKyY"
      },
      "outputs": [],
      "source": [
        "def normalize_theta(arr, m, M):\n",
        "    min_val = min(arr)\n",
        "    max_val = max(arr)\n",
        "    normalized_arr = []\n",
        "\n",
        "    for value in arr:\n",
        "        normalized_value = m + ((value - min_val) * (M - m) / (max_val - min_val))\n",
        "        normalized_arr.append(normalized_value)\n",
        "\n",
        "    return normalized_arr"
      ]
    },
    {
      "cell_type": "code",
      "source": [
        "def calcul_inv_hess_vect(data,theta):\n",
        "  alpha = theta[:len(theta)-2]\n",
        "  (N, K) = data.shape\n",
        "  q = N*float(polygamma(1,np.sum(alpha)))\n",
        "  inv_S = np.diag([-N/np.clip(float(polygamma(1,alpha[m])),10**(-7),None) for m in range(K)])\n",
        "  a = np.ones(K).reshape(-1,1)\n",
        "  inv_hess = inv_S + np.dot(np.dot(inv_S,a),np.dot(np.transpose(a),inv_S))/((1/q)*np.dot(np.dot(np.transpose(a),inv_S),a))\n",
        "  return inv_hess"
      ],
      "metadata": {
        "id": "wQFxivJ8ULjq"
      },
      "execution_count": 18,
      "outputs": []
    },
    {
      "cell_type": "code",
      "source": [
        "def calcul_inv_hess_non_vect(data,theta):\n",
        "  (N,K) = data.shape\n",
        "  H = np.zeros((2,2))\n",
        "  alpha, beta = theta[len(theta)-2], theta[len(theta)-1]\n",
        "  H[0][0] = N*(float(polygamma(1,alpha+beta)) - float(polygamma(1,alpha)))\n",
        "  H[1][1] = N*(float(polygamma(1,alpha+beta)) - float(polygamma(1,beta)))\n",
        "  H[0][1] = H[1][0] = N*float(polygamma(1,alpha+beta))\n",
        "  inv_H = np.linalg.inv(H)\n",
        "  return inv_H"
      ],
      "metadata": {
        "id": "aGDR5tqLCEhM"
      },
      "execution_count": 19,
      "outputs": []
    },
    {
      "cell_type": "code",
      "source": [
        "def derivative(data,theta_old):\n",
        "  (N, K) = data.shape\n",
        "  der_vect_alpha = np.zeros(K)\n",
        "  vect_alpha_old, alpha_old, beta_old = theta_old[:len(theta_old)-2], theta_old[len(theta_old)-2], theta_old[len(theta_old)-1]\n",
        "  for s in range(K):\n",
        "    der_vect_alpha[s] =N*(psi(np.sum(vect_alpha_old)) - psi(vect_alpha_old[s])) - np.sum( np.log(data[:,s]) )\n",
        "  der_alpha = N*(psi(alpha_old+beta_old)-psi(alpha_old)) + np.sum([np.log(np.mean(data[i])) for i in range(N)])\n",
        "  der_beta = N*(psi(alpha_old+beta_old)-psi(alpha_old)) + np.sum([np.log(1-np.mean(data[i])) for i in range(N)])\n",
        "  der_theta = np.concatenate((der_vect_alpha, der_alpha,der_beta), axis=None)\n",
        "  return der_theta"
      ],
      "metadata": {
        "id": "e2Ir_85Vaut_"
      },
      "execution_count": 20,
      "outputs": []
    },
    {
      "cell_type": "code",
      "execution_count": 21,
      "metadata": {
        "id": "H4k9DX5jJs_Y"
      },
      "outputs": [],
      "source": [
        "def update_theta(data,theta_old):\n",
        "  inv_hess_vect = calcul_inv_hess_vect(data,theta_old)\n",
        "  inv_hess_non_vect = calcul_inv_hess_non_vect(data,theta_old)\n",
        "  der_param = derivative(data,theta_old)\n",
        "\n",
        "  vect_alpha_old, alpha_beta_old = theta_old[:len(theta_old)-2], theta_old[len(theta_old)-2:]\n",
        "  der_vect_alpha_old, der_alpha_beta_old = der_param[:len(der_param)-2], der_param[len(der_param)-2:]\n",
        "\n",
        "  vect_alpha_new = vect_alpha_old - np.dot(inv_hess_vect,der_vect_alpha_old)\n",
        "  vect_alpha_new = normalize_theta(vect_alpha_new,0.1,2)\n",
        "  alpha_beta_new = alpha_beta_old - np.dot(inv_hess_non_vect,der_alpha_beta_old)\n",
        "  alpha_beta_new = normalize_theta(alpha_beta_new,0.1,2)\n",
        "  theta_new = (np.clip(np.concatenate((vect_alpha_new,alpha_beta_new), axis=None),10**(-15),None))\n",
        "\n",
        "  return theta_new"
      ]
    },
    {
      "cell_type": "code",
      "source": [
        "theta_zero =  [2.78918617, 3.6044279,  3.05354054, 2.7699276,  2.17590852, 3.26488115,\n",
        " 2.24417734, 4.4696877,  4.82194753, 1.97886344, 3.97945269, 2.69158511,\n",
        " 2.88341835, 4.63542353, 0.44807669, 0.52693357, 0.19907015, 4.17983724,\n",
        " 3.91296808, 4.36305953, 4.89522988, 4.01587696]"
      ],
      "metadata": {
        "id": "nl7LrEsW9H3-"
      },
      "execution_count": 22,
      "outputs": []
    },
    {
      "cell_type": "code",
      "execution_count": 23,
      "metadata": {
        "id": "oKzLJI7XEsy7"
      },
      "outputs": [],
      "source": [
        "'''#theta_zero = np.concatenate((moment_initialization(train),np.random.uniform(low=0.1, high=1, size=(3,))), axis=None)\n",
        "theta_zero = np.random.uniform(low=0.1, high=5, size=(train.shape[1]+2,))\n",
        "print('theta_zero = ',np.array(theta_zero))'''\n",
        "theta_old = theta_zero"
      ]
    },
    {
      "cell_type": "code",
      "source": [
        "max_iter = 5\n",
        "for j in range(max_iter):\n",
        "  theta_new = update_theta(train,theta_old)\n",
        "  theta_old = theta_new"
      ],
      "metadata": {
        "id": "eQ8XEYmRl9uP"
      },
      "execution_count": 24,
      "outputs": []
    },
    {
      "cell_type": "markdown",
      "source": [
        "##**Feature mapping**"
      ],
      "metadata": {
        "id": "EooCmypXpk_w"
      }
    },
    {
      "cell_type": "code",
      "source": [
        "train_df = pd.DataFrame(train)\n",
        "#train_df['new_feature'] = normalize_theta([log_bl(row,theta_new) for row in train],130,150)\n",
        "train_df['new_feature'] = [log_bl(row,theta_new) for row in train]\n",
        "\n",
        "test_df = pd.DataFrame(test)\n",
        "#test_df['new_feature'] = normalize_theta([log_bl(row,theta_new) for row in test],130,150)\n",
        "test_df['new_feature'] = [log_bl(row,theta_new) for row in test]"
      ],
      "metadata": {
        "id": "nYIM9cbeRhZq"
      },
      "execution_count": 25,
      "outputs": []
    },
    {
      "cell_type": "code",
      "source": [
        "train_f = np.array(train_df)\n",
        "test_f = np.array(test_df)"
      ],
      "metadata": {
        "id": "s2p3P8hdTVQ1"
      },
      "execution_count": 26,
      "outputs": []
    },
    {
      "cell_type": "code",
      "source": [
        "from sklearn.svm import SVC\n",
        "# Train SVM classifier\n",
        "print(\"Training SVM classifier...\")\n",
        "svm = SVC(kernel='linear', C=5.0, gamma='auto', random_state=42)\n",
        "svm.fit(train_f, y_train)"
      ],
      "metadata": {
        "id": "wltSzmX0TDDE",
        "colab": {
          "base_uri": "https://localhost:8080/",
          "height": 91
        },
        "outputId": "29bf0c72-a131-43ed-8779-b6cd1b0564ca"
      },
      "execution_count": 27,
      "outputs": [
        {
          "output_type": "stream",
          "name": "stdout",
          "text": [
            "Training SVM classifier...\n"
          ]
        },
        {
          "output_type": "execute_result",
          "data": {
            "text/plain": [
              "SVC(C=5.0, gamma='auto', kernel='linear', random_state=42)"
            ],
            "text/html": [
              "<style>#sk-container-id-1 {color: black;background-color: white;}#sk-container-id-1 pre{padding: 0;}#sk-container-id-1 div.sk-toggleable {background-color: white;}#sk-container-id-1 label.sk-toggleable__label {cursor: pointer;display: block;width: 100%;margin-bottom: 0;padding: 0.3em;box-sizing: border-box;text-align: center;}#sk-container-id-1 label.sk-toggleable__label-arrow:before {content: \"▸\";float: left;margin-right: 0.25em;color: #696969;}#sk-container-id-1 label.sk-toggleable__label-arrow:hover:before {color: black;}#sk-container-id-1 div.sk-estimator:hover label.sk-toggleable__label-arrow:before {color: black;}#sk-container-id-1 div.sk-toggleable__content {max-height: 0;max-width: 0;overflow: hidden;text-align: left;background-color: #f0f8ff;}#sk-container-id-1 div.sk-toggleable__content pre {margin: 0.2em;color: black;border-radius: 0.25em;background-color: #f0f8ff;}#sk-container-id-1 input.sk-toggleable__control:checked~div.sk-toggleable__content {max-height: 200px;max-width: 100%;overflow: auto;}#sk-container-id-1 input.sk-toggleable__control:checked~label.sk-toggleable__label-arrow:before {content: \"▾\";}#sk-container-id-1 div.sk-estimator input.sk-toggleable__control:checked~label.sk-toggleable__label {background-color: #d4ebff;}#sk-container-id-1 div.sk-label input.sk-toggleable__control:checked~label.sk-toggleable__label {background-color: #d4ebff;}#sk-container-id-1 input.sk-hidden--visually {border: 0;clip: rect(1px 1px 1px 1px);clip: rect(1px, 1px, 1px, 1px);height: 1px;margin: -1px;overflow: hidden;padding: 0;position: absolute;width: 1px;}#sk-container-id-1 div.sk-estimator {font-family: monospace;background-color: #f0f8ff;border: 1px dotted black;border-radius: 0.25em;box-sizing: border-box;margin-bottom: 0.5em;}#sk-container-id-1 div.sk-estimator:hover {background-color: #d4ebff;}#sk-container-id-1 div.sk-parallel-item::after {content: \"\";width: 100%;border-bottom: 1px solid gray;flex-grow: 1;}#sk-container-id-1 div.sk-label:hover label.sk-toggleable__label {background-color: #d4ebff;}#sk-container-id-1 div.sk-serial::before {content: \"\";position: absolute;border-left: 1px solid gray;box-sizing: border-box;top: 0;bottom: 0;left: 50%;z-index: 0;}#sk-container-id-1 div.sk-serial {display: flex;flex-direction: column;align-items: center;background-color: white;padding-right: 0.2em;padding-left: 0.2em;position: relative;}#sk-container-id-1 div.sk-item {position: relative;z-index: 1;}#sk-container-id-1 div.sk-parallel {display: flex;align-items: stretch;justify-content: center;background-color: white;position: relative;}#sk-container-id-1 div.sk-item::before, #sk-container-id-1 div.sk-parallel-item::before {content: \"\";position: absolute;border-left: 1px solid gray;box-sizing: border-box;top: 0;bottom: 0;left: 50%;z-index: -1;}#sk-container-id-1 div.sk-parallel-item {display: flex;flex-direction: column;z-index: 1;position: relative;background-color: white;}#sk-container-id-1 div.sk-parallel-item:first-child::after {align-self: flex-end;width: 50%;}#sk-container-id-1 div.sk-parallel-item:last-child::after {align-self: flex-start;width: 50%;}#sk-container-id-1 div.sk-parallel-item:only-child::after {width: 0;}#sk-container-id-1 div.sk-dashed-wrapped {border: 1px dashed gray;margin: 0 0.4em 0.5em 0.4em;box-sizing: border-box;padding-bottom: 0.4em;background-color: white;}#sk-container-id-1 div.sk-label label {font-family: monospace;font-weight: bold;display: inline-block;line-height: 1.2em;}#sk-container-id-1 div.sk-label-container {text-align: center;}#sk-container-id-1 div.sk-container {/* jupyter's `normalize.less` sets `[hidden] { display: none; }` but bootstrap.min.css set `[hidden] { display: none !important; }` so we also need the `!important` here to be able to override the default hidden behavior on the sphinx rendered scikit-learn.org. See: https://github.com/scikit-learn/scikit-learn/issues/21755 */display: inline-block !important;position: relative;}#sk-container-id-1 div.sk-text-repr-fallback {display: none;}</style><div id=\"sk-container-id-1\" class=\"sk-top-container\"><div class=\"sk-text-repr-fallback\"><pre>SVC(C=5.0, gamma=&#x27;auto&#x27;, kernel=&#x27;linear&#x27;, random_state=42)</pre><b>In a Jupyter environment, please rerun this cell to show the HTML representation or trust the notebook. <br />On GitHub, the HTML representation is unable to render, please try loading this page with nbviewer.org.</b></div><div class=\"sk-container\" hidden><div class=\"sk-item\"><div class=\"sk-estimator sk-toggleable\"><input class=\"sk-toggleable__control sk-hidden--visually\" id=\"sk-estimator-id-1\" type=\"checkbox\" checked><label for=\"sk-estimator-id-1\" class=\"sk-toggleable__label sk-toggleable__label-arrow\">SVC</label><div class=\"sk-toggleable__content\"><pre>SVC(C=5.0, gamma=&#x27;auto&#x27;, kernel=&#x27;linear&#x27;, random_state=42)</pre></div></div></div></div></div>"
            ]
          },
          "metadata": {},
          "execution_count": 27
        }
      ]
    },
    {
      "cell_type": "code",
      "source": [
        "# Test SVM classifier\n",
        "print(\"Testing SVM classifier...\")\n",
        "y_pred_svm = svm.predict(test_f)"
      ],
      "metadata": {
        "id": "CrJDG7-FTIT4",
        "colab": {
          "base_uri": "https://localhost:8080/"
        },
        "outputId": "810a6c96-f255-41bf-fa1f-df475b32be80"
      },
      "execution_count": 28,
      "outputs": [
        {
          "output_type": "stream",
          "name": "stdout",
          "text": [
            "Testing SVM classifier...\n"
          ]
        }
      ]
    },
    {
      "cell_type": "code",
      "source": [
        "from sklearn.metrics import roc_auc_score, f1_score, precision_score, recall_score, confusion_matrix, accuracy_score\n",
        "from sklearn import metrics\n",
        "# Evaluate the performance of the classifier\n",
        "print(\"F1 Score:\", f1_score(y_test, y_pred_svm))\n",
        "print(\"Precision:\", precision_score(y_test, y_pred_svm))\n",
        "print(\"Recall:\", recall_score(y_test, y_pred_svm))\n",
        "print(\"Confusion Matrix:\\n\", confusion_matrix(y_test, y_pred_svm))\n",
        "print(\"Accuracy:\", accuracy_score(y_test, y_pred_svm))"
      ],
      "metadata": {
        "id": "M7AUpG0DTM7O",
        "colab": {
          "base_uri": "https://localhost:8080/"
        },
        "outputId": "ecb3c984-bdd1-48c5-bad8-6cddf560b428"
      },
      "execution_count": 29,
      "outputs": [
        {
          "output_type": "stream",
          "name": "stdout",
          "text": [
            "F1 Score: 0.9477837695646456\n",
            "Precision: 1.0\n",
            "Recall: 0.90075\n",
            "Confusion Matrix:\n",
            " [[ 858    0]\n",
            " [ 397 3603]]\n",
            "Accuracy: 0.9182791272128448\n"
          ]
        }
      ]
    },
    {
      "cell_type": "code",
      "source": [
        "cm = confusion_matrix(y_test, y_pred_svm)\n",
        "cm_display = metrics.ConfusionMatrixDisplay(confusion_matrix = cm, display_labels = ['YES Class', 'NO Class'])\n",
        "cm_display.plot()\n",
        "cm_display.ax_.set_title('bL-SVM bank DATA')\n",
        "plt.show()"
      ],
      "metadata": {
        "id": "bva3dQa7TOvb",
        "colab": {
          "base_uri": "https://localhost:8080/",
          "height": 472
        },
        "outputId": "12d4b925-a55c-4c96-e80e-f2a543b92de5"
      },
      "execution_count": 31,
      "outputs": [
        {
          "output_type": "display_data",
          "data": {
            "text/plain": [
              "<Figure size 640x480 with 2 Axes>"
            ],
            "image/png": "[encoded data removed]"
          },
          "metadata": {}
        }
      ]
    },
    {
      "cell_type": "code",
      "source": [],
      "metadata": {
        "id": "YMS362FFZchM"
      },
      "execution_count": 30,
      "outputs": []
    }
  ],
  "metadata": {
    "colab": {
      "provenance": [],
      "gpuType": "T4"
    },
    "kernelspec": {
      "display_name": "Python 3",
      "name": "python3"
    },
    "language_info": {
      "name": "python"
    }
  },
  "nbformat": 4,
  "nbformat_minor": 0
}