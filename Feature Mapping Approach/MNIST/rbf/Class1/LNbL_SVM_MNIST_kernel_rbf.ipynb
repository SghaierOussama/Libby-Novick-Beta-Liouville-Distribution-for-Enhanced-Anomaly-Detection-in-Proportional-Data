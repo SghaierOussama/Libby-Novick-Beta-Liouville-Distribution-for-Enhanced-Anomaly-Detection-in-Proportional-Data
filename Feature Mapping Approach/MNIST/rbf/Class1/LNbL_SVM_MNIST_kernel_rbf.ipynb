{
  "cells": [
    {
      "cell_type": "code",
      "execution_count": 1,
      "metadata": {
        "id": "1JehaGAsi5wj"
      },
      "outputs": [],
      "source": [
        "import pandas as pd\n",
        "import numpy as np\n",
        "import tensorflow as tf\n",
        "import matplotlib.pyplot as plt\n",
        "from sklearn.preprocessing import Normalizer\n",
        "from sklearn.preprocessing import MinMaxScaler\n",
        "import random\n",
        "random.seed(0)\n",
        "tf.random.set_seed(0)\n",
        "np.random.seed(0)"
      ]
    },
    {
      "cell_type": "markdown",
      "metadata": {
        "id": "b3txogskoCCR"
      },
      "source": [
        "## **Load the Data**"
      ]
    },
    {
      "cell_type": "code",
      "source": [
        "from keras.datasets import mnist\n",
        "def load_data():\n",
        "  (X_train, y_train), (X_test, y_test) = mnist.load_data()\n",
        "  X_train = X_train.reshape(X_train.shape[0], -1)\n",
        "  X_test = X_test.reshape(X_test.shape[0], -1)\n",
        "  return (X_train, y_train), (X_test, y_test)"
      ],
      "metadata": {
        "id": "KWTu_wMdP3qB"
      },
      "execution_count": 2,
      "outputs": []
    },
    {
      "cell_type": "code",
      "source": [
        "(X_train, y_train), (X_test, y_test) = load_data()"
      ],
      "metadata": {
        "id": "0kqoOLnwP3l-"
      },
      "execution_count": 3,
      "outputs": []
    },
    {
      "cell_type": "code",
      "source": [
        "from sklearn.decomposition import NMF\n",
        "from sklearn.decomposition import PCA\n",
        "from sklearn.preprocessing import StandardScaler\n",
        "def preprocess_data(data):\n",
        "  scaler = StandardScaler()\n",
        "  data_std = scaler.fit_transform(data)\n",
        "  n_components = 30\n",
        "  pca = PCA(n_components=n_components)\n",
        "  data_pca = pca.fit_transform(data_std)\n",
        "  return data_pca"
      ],
      "metadata": {
        "id": "xmtjHexRA5aD"
      },
      "execution_count": 4,
      "outputs": []
    },
    {
      "cell_type": "code",
      "source": [
        "X_train = preprocess_data(X_train)\n",
        "X_test = preprocess_data(X_test)"
      ],
      "metadata": {
        "id": "Rwu5UxJM9W2v"
      },
      "execution_count": 5,
      "outputs": []
    },
    {
      "cell_type": "code",
      "source": [
        "train_data_0 = pd.DataFrame(X_train[y_train == 0])\n",
        "train_data_1 = pd.DataFrame(X_train[y_train == 1])[:1000]\n",
        "train_data = pd.DataFrame(pd.concat([train_data_0,train_data_1]))\n",
        "train = train_data.reset_index(drop = True)\n",
        "\n",
        "train_label_0 = pd.DataFrame(y_train[y_train == 0])\n",
        "train_label_1 = pd.DataFrame(y_train[y_train == 1])[:1000]\n",
        "train_data_label = pd.DataFrame(pd.concat([train_label_0,train_label_1]))\n",
        "y_train = np.array(train_data_label.reset_index(drop = True))\n",
        "#y_train = np.array([0 if elem==1 else 1 for elem in y_train])"
      ],
      "metadata": {
        "id": "LjIfuFOZ9oCC"
      },
      "execution_count": 6,
      "outputs": []
    },
    {
      "cell_type": "code",
      "source": [
        "test_data_0 = pd.DataFrame(X_test[y_test.flatten() == 0])\n",
        "test_data_1 = pd.DataFrame(X_test[y_test.flatten() == 1])[:200]\n",
        "test_data = pd.DataFrame(pd.concat([test_data_0,test_data_1]))\n",
        "test = test_data.reset_index(drop = True)\n",
        "\n",
        "test_label_0 = pd.DataFrame(y_test[y_test == 0])\n",
        "test_label_1 = pd.DataFrame(y_test[y_test == 1])[:200]\n",
        "test_data_label = pd.DataFrame(pd.concat([test_label_0,test_label_1]))\n",
        "y_test = np.array(test_data_label.reset_index(drop = True))\n",
        "#y_test = np.array([0 if elem==1 else 1 for elem in y_test])"
      ],
      "metadata": {
        "id": "IseSmbbx4XLu"
      },
      "execution_count": 7,
      "outputs": []
    },
    {
      "cell_type": "code",
      "source": [
        "scaler = MinMaxScaler()\n",
        "train = scaler.fit_transform(train)\n",
        "train = np.array(train)\n",
        "train = train / train.sum(axis=1, keepdims=True)\n",
        "train = np.clip(train,0.0000005,None)"
      ],
      "metadata": {
        "id": "My5glYbl9phc"
      },
      "execution_count": 8,
      "outputs": []
    },
    {
      "cell_type": "code",
      "source": [
        "scaler = MinMaxScaler()\n",
        "test = scaler.fit_transform(test)\n",
        "test = np.array(test)\n",
        "test = test / test.sum(axis=1, keepdims=True)\n",
        "test = np.clip(test,0.0000005,None)"
      ],
      "metadata": {
        "id": "BVcl0DvvW7lK"
      },
      "execution_count": 9,
      "outputs": []
    },
    {
      "cell_type": "markdown",
      "source": [
        "##**Parameter Estimaion**"
      ],
      "metadata": {
        "id": "C9TE-uZpomdd"
      }
    },
    {
      "cell_type": "code",
      "source": [
        "def moment_initialization(data):\n",
        "  mean = np.mean(data,axis=0)\n",
        "  mean_square = np.mean(data**2,axis=0)\n",
        "  alpha = np.zeros(data.shape[1])\n",
        "  for k in range(data.shape[1]):\n",
        "    alpha[k] = mean[k]*(mean[k]-mean_square[k])/(mean_square[k]-(mean[k])**2)\n",
        "  return alpha"
      ],
      "metadata": {
        "id": "og8iKlh1gP5z"
      },
      "execution_count": 10,
      "outputs": []
    },
    {
      "cell_type": "code",
      "execution_count": 11,
      "metadata": {
        "id": "dPgXSIP8OhH7"
      },
      "outputs": [],
      "source": [
        "from scipy.special import gamma, digamma, gammaln, psi,polygamma\n",
        "def log_lbl(row,theta):\n",
        "  alpha_K, alpha, beta, lamda = theta[:len(theta)-3], theta[len(theta)-3], theta[len(theta)-2], theta[len(theta)-1]\n",
        "  c = gammaln(np.sum(alpha_K)) + gammaln(alpha+beta) - gammaln(alpha) - gammaln(beta)\n",
        "  q1 = (alpha-np.sum(alpha_K))*np.log(np.abs(1-np.mean(row))) + alpha*np.log(lamda)\n",
        "  q2 = (alpha+beta)*np.log(np.abs(1-(1-lamda)*(1-np.mean(row)))) - (beta-1)*np.log(np.abs(np.mean(row)))\n",
        "  q3 = np.sum(((alpha_K)-1)*np.log(row)) - np.sum(np.log(alpha_K))\n",
        "  return c+q1+q2+q3"
      ]
    },
    {
      "cell_type": "code",
      "execution_count": 12,
      "metadata": {
        "id": "YvL4_XjMrKyY"
      },
      "outputs": [],
      "source": [
        "def normalize_theta(arr, m, M):\n",
        "    min_val = min(arr)\n",
        "    max_val = max(arr)\n",
        "    normalized_arr = []\n",
        "\n",
        "    for value in arr:\n",
        "        normalized_value = m + ((value - min_val) * (M - m) / (max_val - min_val))\n",
        "        normalized_arr.append(normalized_value)\n",
        "\n",
        "    return normalized_arr"
      ]
    },
    {
      "cell_type": "code",
      "source": [
        "def calcul_inv_hess_vect(data,theta):\n",
        "  alpha = theta[:len(theta)-3]\n",
        "  (N, K) = data.shape\n",
        "  q = N*float(polygamma(1,np.sum(alpha)))\n",
        "  inv_S = np.diag([-N/np.clip(float(polygamma(1,alpha[m])),10**(-7),None) for m in range(K)])\n",
        "  a = np.ones(K).reshape(-1,1)\n",
        "  inv_hess = inv_S + np.dot(np.dot(inv_S,a),np.dot(np.transpose(a),inv_S))/((1/q)*np.dot(np.dot(np.transpose(a),inv_S),a))\n",
        "  return inv_hess"
      ],
      "metadata": {
        "id": "wQFxivJ8ULjq"
      },
      "execution_count": 13,
      "outputs": []
    },
    {
      "cell_type": "code",
      "source": [
        "def calcul_inv_hess_non_vect(data,theta):\n",
        "  (N, K) = data.shape\n",
        "  H = np.zeros((3,3))\n",
        "  alpha, beta, lamda = theta[len(theta)-3], theta[len(theta)-2], theta[len(theta)-1]\n",
        "  H[0][0] = N*(float(polygamma(1,alpha+beta)) - float(polygamma(1,alpha)))\n",
        "  H[1][1] = N*(float(polygamma(1,alpha+beta)) - float(polygamma(1,beta)))\n",
        "  H[2][2] = N*((alpha+beta) / ((1-(1-lamda))**2) - (alpha/(lamda**2)))\n",
        "  H[0][1] = H[1][0] = N*float(polygamma(1,alpha+beta))\n",
        "  H[0][2] = H[2][0] = N*((1/lamda) - (1/(1-(1-lamda))))\n",
        "  H[1][2] = H[2][1] = -N*(1/(1-(1-lamda)))\n",
        "  inv_H = np.linalg.inv(H)\n",
        "  return inv_H"
      ],
      "metadata": {
        "id": "aGDR5tqLCEhM"
      },
      "execution_count": 14,
      "outputs": []
    },
    {
      "cell_type": "code",
      "source": [
        "def derivative(data,theta_old):\n",
        "  (N, K) = data.shape\n",
        "  der_vect_alpha = np.zeros(K)\n",
        "  vect_alpha_old, alpha_old, beta_old, lamda_old = theta_old[:len(theta_old)-3], theta_old[len(theta_old)-3], theta_old[len(theta_old)-2], theta_old[len(theta_old)-1]\n",
        "  for s in range(K):\n",
        "    der_vect_alpha[s] =N*(psi(np.sum(vect_alpha_old)) - psi(vect_alpha_old[s])) - np.sum(np.log(data[:,s]) )\n",
        "  der_alpha = N*(psi(alpha_old+beta_old)-psi(alpha_old) + np.log(np.clip(lamda_old,10**(-6),None))-np.log(np.clip(1-(1-lamda_old),10**(-6),None)))\n",
        "  der_beta = N*(psi(alpha_old+beta_old)-psi(beta_old)- np.log(np.clip(1-(1-lamda_old),10**(-8),None)))\n",
        "  der_lamda = N*((alpha_old/lamda_old) - (alpha_old+beta_old)/(1-(1-lamda_old)))\n",
        "  der_theta = np.concatenate((der_vect_alpha, der_alpha,der_beta, der_lamda), axis=None)\n",
        "  return der_theta"
      ],
      "metadata": {
        "id": "e2Ir_85Vaut_"
      },
      "execution_count": 15,
      "outputs": []
    },
    {
      "cell_type": "code",
      "execution_count": 16,
      "metadata": {
        "id": "H4k9DX5jJs_Y"
      },
      "outputs": [],
      "source": [
        "def update_theta(data,theta_old):\n",
        "  inv_hess_vect = calcul_inv_hess_vect(data,theta_old)\n",
        "  inv_hess_non_vect = calcul_inv_hess_non_vect(data,theta_old)\n",
        "  der_param = derivative(data,theta_old)\n",
        "\n",
        "  vect_alpha_old, alpha_beta_lamda_old = theta_old[:len(theta_old)-3], theta_old[len(theta_old)-3:]\n",
        "  der_vect_alpha_old, der_alpha_beta_lamda_old = der_param[:len(der_param)-3], der_param[len(der_param)-3:]\n",
        "\n",
        "  vect_alpha_new = vect_alpha_old - np.dot(inv_hess_vect,der_vect_alpha_old)\n",
        "  vect_alpha_new = normalize_theta(vect_alpha_new,0.1,2)\n",
        "  alpha_beta_lamda_new = alpha_beta_lamda_old - np.dot(inv_hess_non_vect,der_alpha_beta_lamda_old)\n",
        "  alpha_beta_lamda_new = normalize_theta(alpha_beta_lamda_new,0.1,2)\n",
        "  theta_new = (np.clip(np.concatenate((vect_alpha_new,alpha_beta_lamda_new), axis=None),10**(-15),None))\n",
        "\n",
        "  return theta_new"
      ]
    },
    {
      "cell_type": "code",
      "source": [
        "theta_zero =  [3.48402655, 4.08689877, 2.29453679, 0.80298193, 2.48411133, 4.10905099,\n",
        " 4.04348271, 0.37933385, 1.4785416,  0.75021676, 3.72930329, 0.15539801,\n",
        " 4.82896634, 1.1950735 , 1.39257066, 3.03847116, 0.67013932, 1.0827499,\n",
        " 4.35099797, 3.31773473, 0.80319742, 1.79804192, 1.83120125, 0.89466128,\n",
        " 3.35068531, 4.61107156, 1.2307713,  4.27240379, 1.08712891, 3.98975947,\n",
        " 3.14513314, 2.58677362, 2.5098388 ]"
      ],
      "metadata": {
        "id": "hHPWbyOR4Tq7"
      },
      "execution_count": 17,
      "outputs": []
    },
    {
      "cell_type": "code",
      "execution_count": 18,
      "metadata": {
        "id": "oKzLJI7XEsy7"
      },
      "outputs": [],
      "source": [
        "'''#theta_zero = np.concatenate((moment_initialization(train),np.random.uniform(low=0.1, high=1, size=(3,))), axis=None)\n",
        "theta_zero = np.random.uniform(low=0.1, high=5, size=(train.shape[1]+3,))\n",
        "print('theta_zero = ',np.array(theta_zero))'''\n",
        "theta_old = theta_zero"
      ]
    },
    {
      "cell_type": "code",
      "source": [
        "max_iter = 5\n",
        "for j in range(max_iter):\n",
        "  theta_new = update_theta(train,theta_old)\n",
        "  theta_old = theta_new"
      ],
      "metadata": {
        "id": "eQ8XEYmRl9uP"
      },
      "execution_count": 19,
      "outputs": []
    },
    {
      "cell_type": "markdown",
      "source": [
        "##**Feature mapping**"
      ],
      "metadata": {
        "id": "EooCmypXpk_w"
      }
    },
    {
      "cell_type": "code",
      "source": [
        "train_df = pd.DataFrame(train)\n",
        "#train_df['new_feature'] = normalize_theta([log_lbl(row,theta_new) for row in train],10,20)\n",
        "train_df['new_feature'] = [log_lbl(row,theta_new) for row in train]\n",
        "\n",
        "test_df = pd.DataFrame(test)\n",
        "#test_df['new_feature'] = normalize_theta([log_lbl(row,theta_new) for row in test],10,20)\n",
        "test_df['new_feature'] = [log_lbl(row,theta_new) for row in test]"
      ],
      "metadata": {
        "id": "nYIM9cbeRhZq"
      },
      "execution_count": 20,
      "outputs": []
    },
    {
      "cell_type": "code",
      "source": [
        "train_f = np.array(train_df)\n",
        "test_f = np.array(test_df)"
      ],
      "metadata": {
        "id": "s2p3P8hdTVQ1"
      },
      "execution_count": 21,
      "outputs": []
    },
    {
      "cell_type": "code",
      "source": [
        "from sklearn.svm import SVC\n",
        "# Train SVM classifier\n",
        "print(\"Training SVM classifier...\")\n",
        "svm = SVC(kernel='rbf', C=100.0, gamma='auto', random_state=42)\n",
        "svm.fit(train_f, y_train)"
      ],
      "metadata": {
        "id": "wltSzmX0TDDE",
        "colab": {
          "base_uri": "https://localhost:8080/",
          "height": 146
        },
        "outputId": "65a4770b-f81c-48af-d3f9-f82265bd606e"
      },
      "execution_count": 22,
      "outputs": [
        {
          "output_type": "stream",
          "name": "stdout",
          "text": [
            "Training SVM classifier...\n"
          ]
        },
        {
          "output_type": "stream",
          "name": "stderr",
          "text": [
            "/usr/local/lib/python3.10/dist-packages/sklearn/utils/validation.py:1143: DataConversionWarning: A column-vector y was passed when a 1d array was expected. Please change the shape of y to (n_samples, ), for example using ravel().\n",
            "  y = column_or_1d(y, warn=True)\n"
          ]
        },
        {
          "output_type": "execute_result",
          "data": {
            "text/plain": [
              "SVC(C=100.0, gamma='auto', random_state=42)"
            ],
            "text/html": [
              "<style>#sk-container-id-1 {color: black;background-color: white;}#sk-container-id-1 pre{padding: 0;}#sk-container-id-1 div.sk-toggleable {background-color: white;}#sk-container-id-1 label.sk-toggleable__label {cursor: pointer;display: block;width: 100%;margin-bottom: 0;padding: 0.3em;box-sizing: border-box;text-align: center;}#sk-container-id-1 label.sk-toggleable__label-arrow:before {content: \"▸\";float: left;margin-right: 0.25em;color: #696969;}#sk-container-id-1 label.sk-toggleable__label-arrow:hover:before {color: black;}#sk-container-id-1 div.sk-estimator:hover label.sk-toggleable__label-arrow:before {color: black;}#sk-container-id-1 div.sk-toggleable__content {max-height: 0;max-width: 0;overflow: hidden;text-align: left;background-color: #f0f8ff;}#sk-container-id-1 div.sk-toggleable__content pre {margin: 0.2em;color: black;border-radius: 0.25em;background-color: #f0f8ff;}#sk-container-id-1 input.sk-toggleable__control:checked~div.sk-toggleable__content {max-height: 200px;max-width: 100%;overflow: auto;}#sk-container-id-1 input.sk-toggleable__control:checked~label.sk-toggleable__label-arrow:before {content: \"▾\";}#sk-container-id-1 div.sk-estimator input.sk-toggleable__control:checked~label.sk-toggleable__label {background-color: #d4ebff;}#sk-container-id-1 div.sk-label input.sk-toggleable__control:checked~label.sk-toggleable__label {background-color: #d4ebff;}#sk-container-id-1 input.sk-hidden--visually {border: 0;clip: rect(1px 1px 1px 1px);clip: rect(1px, 1px, 1px, 1px);height: 1px;margin: -1px;overflow: hidden;padding: 0;position: absolute;width: 1px;}#sk-container-id-1 div.sk-estimator {font-family: monospace;background-color: #f0f8ff;border: 1px dotted black;border-radius: 0.25em;box-sizing: border-box;margin-bottom: 0.5em;}#sk-container-id-1 div.sk-estimator:hover {background-color: #d4ebff;}#sk-container-id-1 div.sk-parallel-item::after {content: \"\";width: 100%;border-bottom: 1px solid gray;flex-grow: 1;}#sk-container-id-1 div.sk-label:hover label.sk-toggleable__label {background-color: #d4ebff;}#sk-container-id-1 div.sk-serial::before {content: \"\";position: absolute;border-left: 1px solid gray;box-sizing: border-box;top: 0;bottom: 0;left: 50%;z-index: 0;}#sk-container-id-1 div.sk-serial {display: flex;flex-direction: column;align-items: center;background-color: white;padding-right: 0.2em;padding-left: 0.2em;position: relative;}#sk-container-id-1 div.sk-item {position: relative;z-index: 1;}#sk-container-id-1 div.sk-parallel {display: flex;align-items: stretch;justify-content: center;background-color: white;position: relative;}#sk-container-id-1 div.sk-item::before, #sk-container-id-1 div.sk-parallel-item::before {content: \"\";position: absolute;border-left: 1px solid gray;box-sizing: border-box;top: 0;bottom: 0;left: 50%;z-index: -1;}#sk-container-id-1 div.sk-parallel-item {display: flex;flex-direction: column;z-index: 1;position: relative;background-color: white;}#sk-container-id-1 div.sk-parallel-item:first-child::after {align-self: flex-end;width: 50%;}#sk-container-id-1 div.sk-parallel-item:last-child::after {align-self: flex-start;width: 50%;}#sk-container-id-1 div.sk-parallel-item:only-child::after {width: 0;}#sk-container-id-1 div.sk-dashed-wrapped {border: 1px dashed gray;margin: 0 0.4em 0.5em 0.4em;box-sizing: border-box;padding-bottom: 0.4em;background-color: white;}#sk-container-id-1 div.sk-label label {font-family: monospace;font-weight: bold;display: inline-block;line-height: 1.2em;}#sk-container-id-1 div.sk-label-container {text-align: center;}#sk-container-id-1 div.sk-container {/* jupyter's `normalize.less` sets `[hidden] { display: none; }` but bootstrap.min.css set `[hidden] { display: none !important; }` so we also need the `!important` here to be able to override the default hidden behavior on the sphinx rendered scikit-learn.org. See: https://github.com/scikit-learn/scikit-learn/issues/21755 */display: inline-block !important;position: relative;}#sk-container-id-1 div.sk-text-repr-fallback {display: none;}</style><div id=\"sk-container-id-1\" class=\"sk-top-container\"><div class=\"sk-text-repr-fallback\"><pre>SVC(C=100.0, gamma=&#x27;auto&#x27;, random_state=42)</pre><b>In a Jupyter environment, please rerun this cell to show the HTML representation or trust the notebook. <br />On GitHub, the HTML representation is unable to render, please try loading this page with nbviewer.org.</b></div><div class=\"sk-container\" hidden><div class=\"sk-item\"><div class=\"sk-estimator sk-toggleable\"><input class=\"sk-toggleable__control sk-hidden--visually\" id=\"sk-estimator-id-1\" type=\"checkbox\" checked><label for=\"sk-estimator-id-1\" class=\"sk-toggleable__label sk-toggleable__label-arrow\">SVC</label><div class=\"sk-toggleable__content\"><pre>SVC(C=100.0, gamma=&#x27;auto&#x27;, random_state=42)</pre></div></div></div></div></div>"
            ]
          },
          "metadata": {},
          "execution_count": 22
        }
      ]
    },
    {
      "cell_type": "code",
      "source": [
        "# Test SVM classifier\n",
        "print(\"Testing SVM classifier...\")\n",
        "y_pred_svm = svm.predict(test_f)"
      ],
      "metadata": {
        "id": "CrJDG7-FTIT4",
        "colab": {
          "base_uri": "https://localhost:8080/"
        },
        "outputId": "1b041b0f-a5d2-4c4d-bbe2-2b2ed8365194"
      },
      "execution_count": 23,
      "outputs": [
        {
          "output_type": "stream",
          "name": "stdout",
          "text": [
            "Testing SVM classifier...\n"
          ]
        }
      ]
    },
    {
      "cell_type": "code",
      "source": [
        "from sklearn.metrics import roc_auc_score, f1_score, precision_score, recall_score, confusion_matrix, accuracy_score\n",
        "from sklearn import metrics\n",
        "# Evaluate the performance of the classifier\n",
        "print(\"F1 Score:\", f1_score(y_test, y_pred_svm))\n",
        "print(\"Precision:\", precision_score(y_test, y_pred_svm))\n",
        "print(\"Recall:\", recall_score(y_test, y_pred_svm))\n",
        "print(\"Confusion Matrix:\\n\", confusion_matrix(y_test, y_pred_svm))\n",
        "print(\"Accuracy:\", accuracy_score(y_test, y_pred_svm))"
      ],
      "metadata": {
        "id": "M7AUpG0DTM7O",
        "colab": {
          "base_uri": "https://localhost:8080/"
        },
        "outputId": "2971ab18-06fb-4e0f-93a7-3dc60cf8c637"
      },
      "execution_count": 24,
      "outputs": [
        {
          "output_type": "stream",
          "name": "stdout",
          "text": [
            "F1 Score: 0.9849246231155778\n",
            "Precision: 0.98989898989899\n",
            "Recall: 0.98\n",
            "Confusion Matrix:\n",
            " [[978   2]\n",
            " [  4 196]]\n",
            "Accuracy: 0.9949152542372881\n"
          ]
        }
      ]
    },
    {
      "cell_type": "code",
      "source": [
        "cm = confusion_matrix(y_test, y_pred_svm)\n",
        "cm_display = metrics.ConfusionMatrixDisplay(confusion_matrix = cm, display_labels = ['YES Class', 'NO Class'])\n",
        "cm_display.plot()\n",
        "cm_display.ax_.set_title('LNbL-SVM MNIST DATA')\n",
        "plt.show()"
      ],
      "metadata": {
        "id": "bva3dQa7TOvb",
        "colab": {
          "base_uri": "https://localhost:8080/",
          "height": 472
        },
        "outputId": "e72bb38f-2172-4c25-ce28-47c07e43d2d5"
      },
      "execution_count": 25,
      "outputs": [
        {
          "output_type": "display_data",
          "data": {
            "text/plain": [
              "<Figure size 640x480 with 2 Axes>"
            ],
            "image/png": "[encoded data removed]"
          },
          "metadata": {}
        }
      ]
    },
    {
      "cell_type": "code",
      "source": [],
      "metadata": {
        "id": "YMS362FFZchM"
      },
      "execution_count": 25,
      "outputs": []
    }
  ],
  "metadata": {
    "colab": {
      "provenance": []
    },
    "kernelspec": {
      "display_name": "Python 3",
      "name": "python3"
    },
    "language_info": {
      "name": "python"
    }
  },
  "nbformat": 4,
  "nbformat_minor": 0
}